{
 "cells": [
  {
   "cell_type": "markdown",
   "id": "1b418eef",
   "metadata": {},
   "source": [
    "# Q.1. What are keywords in python? Using the keyword library, print all the python keywords."
   ]
  },
  {
   "cell_type": "code",
   "execution_count": 1,
   "id": "b35be81e",
   "metadata": {},
   "outputs": [
    {
     "name": "stdout",
     "output_type": "stream",
     "text": [
      "['False', 'None', 'True', '__peg_parser__', 'and', 'as', 'assert', 'async', 'await', 'break', 'class', 'continue', 'def', 'del', 'elif', 'else', 'except', 'finally', 'for', 'from', 'global', 'if', 'import', 'in', 'is', 'lambda', 'nonlocal', 'not', 'or', 'pass', 'raise', 'return', 'try', 'while', 'with', 'yield']\n"
     ]
    }
   ],
   "source": [
    "import keyword\n",
    "print(keyword.kwlist)"
   ]
  },
  {
   "cell_type": "markdown",
   "id": "26973dbc",
   "metadata": {},
   "source": [
    "# Q.2. What are the rules to create variables in python?"
   ]
  },
  {
   "cell_type": "raw",
   "id": "90f4a28b",
   "metadata": {},
   "source": [
    "Rules for Python variables:\n",
    "A variable name must start with a letter or the underscore character.\n",
    "A variable name cannot start with a number.\n",
    "A variable name can only contain alpha-numeric characters and underscores (A-z, 0-9, and _ )\n",
    "Variable names are case-sensitive (age, Age and AGE are three different variables)\n"
   ]
  },
  {
   "cell_type": "markdown",
   "id": "6d886e77",
   "metadata": {},
   "source": [
    "# Q.3. What are the standards and conventions followed for the nomenclature of variables in python to improve code readability and maintainability?"
   ]
  },
  {
   "cell_type": "raw",
   "id": "500dbf74",
   "metadata": {},
   "source": [
    "In Python, the names of variables and functions should be lowercase. Individual words can be separated by underscores when needed. This will improve readability within your code. Method names should follow the same conventions as function names."
   ]
  },
  {
   "cell_type": "markdown",
   "id": "0dcb9fe1",
   "metadata": {},
   "source": [
    "# Q.4. What will happen if a keyword is used as a variable name?"
   ]
  },
  {
   "cell_type": "raw",
   "id": "7a774701",
   "metadata": {},
   "source": [
    "#We cannot use a keyword as a variable name, function name or any other identifier. Keywords are reserved words that have a special... Variable names can be arbitrarily long. They can contain both letters and numbers, but they have to begin with a letter. it will throw a syntex error as shown below.\n"
   ]
  },
  {
   "cell_type": "code",
   "execution_count": 2,
   "id": "e7d863e4",
   "metadata": {},
   "outputs": [
    {
     "ename": "SyntaxError",
     "evalue": "invalid syntax (3874273314.py, line 1)",
     "output_type": "error",
     "traceback": [
      "\u001b[1;36m  Input \u001b[1;32mIn [2]\u001b[1;36m\u001b[0m\n\u001b[1;33m    else = 10\u001b[0m\n\u001b[1;37m    ^\u001b[0m\n\u001b[1;31mSyntaxError\u001b[0m\u001b[1;31m:\u001b[0m invalid syntax\n"
     ]
    }
   ],
   "source": [
    "else = 10"
   ]
  },
  {
   "cell_type": "markdown",
   "id": "36c27090",
   "metadata": {},
   "source": [
    "# Q.5. For what purpose def keyword is used?"
   ]
  },
  {
   "cell_type": "raw",
   "id": "d0ae2ab7",
   "metadata": {},
   "source": [
    "The def keyword is used to create, (or define) a function.\n"
   ]
  },
  {
   "cell_type": "markdown",
   "id": "41476d9c",
   "metadata": {},
   "source": [
    "# Q.6. What is the operation of this special character ‘\\’?"
   ]
  },
  {
   "cell_type": "raw",
   "id": "742a4e59",
   "metadata": {},
   "source": [
    "In Python strings, the backslash \"\\\" is a special character, also called the \"escape\" character. It is used in representing certain whitespace characters: \"\\t\" is a tab, \"\\n\" is a newline, and \"\\r\" is a carriage return."
   ]
  },
  {
   "cell_type": "markdown",
   "id": "879f8f8d",
   "metadata": {},
   "source": [
    "# Q.7. Give an example of the following conditions:\n",
    "(i) Homogeneous list\n",
    "(ii) Heterogeneous set\n",
    "(iii) Homogeneous tuple"
   ]
  },
  {
   "cell_type": "raw",
   "id": "b7f1d9a1",
   "metadata": {},
   "source": [
    "(i) Homogeneous list- Lists are mutable sequences, typically used to store collections of homogeneous items(same datatype items)\n",
    "(ii) Heterogeneous set - The items stored can be of any type numeric, string, boolean, objects, etc which makes it heterogeneous. This means that a list can have any type of data and we can iterate over this list using any type of loop. The elements stored are usually associated with an index that defines the position in the list.\n",
    "(iii) Homogeneous tuple - Tuples are immutable, and usually contain a heterogeneous sequence of elements that are accessed via unpacking or indexing (or even by attribute in the case of namedtuples ). Lists are mutable, and their elements are usually homogeneous and are accessed by iterating over the list."
   ]
  },
  {
   "cell_type": "code",
   "execution_count": 3,
   "id": "01a12226",
   "metadata": {},
   "outputs": [],
   "source": [
    "list = [1,2,2,2,3,3,4] #(i) Homogeneous list\n",
    "\n",
    "list = [\"ragini\", 1, 44]\n",
    "\n",
    "tuple  = (1,2,\"hello\")"
   ]
  },
  {
   "cell_type": "markdown",
   "id": "9a81bd78",
   "metadata": {},
   "source": [
    "# Q.8. Explain the mutable and immutable data types with proper explanation & examples."
   ]
  },
  {
   "cell_type": "raw",
   "id": "09e6e226",
   "metadata": {},
   "source": [
    "Mutable data types  - List are mutable that can store one or more objects or values. A list is used to store multiple items in one variable and can be created using square brackets.\n",
    "\n",
    "immutable data types - tuples are known as immutable data types. because once created we cannot do any changes in it."
   ]
  },
  {
   "cell_type": "code",
   "execution_count": 4,
   "id": "6fbf63ca",
   "metadata": {},
   "outputs": [
    {
     "data": {
      "text/plain": [
       "[1, 2, 3]"
      ]
     },
     "execution_count": 4,
     "metadata": {},
     "output_type": "execute_result"
    }
   ],
   "source": [
    "list = [1,2,3]\n",
    "list"
   ]
  },
  {
   "cell_type": "code",
   "execution_count": 5,
   "id": "00de0d9c",
   "metadata": {},
   "outputs": [],
   "source": [
    "list.append(4)"
   ]
  },
  {
   "cell_type": "code",
   "execution_count": 6,
   "id": "15cd5e5c",
   "metadata": {},
   "outputs": [
    {
     "data": {
      "text/plain": [
       "[1, 2, 3, 4]"
      ]
     },
     "execution_count": 6,
     "metadata": {},
     "output_type": "execute_result"
    }
   ],
   "source": [
    "list"
   ]
  },
  {
   "cell_type": "code",
   "execution_count": 7,
   "id": "6d487b12",
   "metadata": {},
   "outputs": [
    {
     "data": {
      "text/plain": [
       "(1, 2, 3)"
      ]
     },
     "execution_count": 7,
     "metadata": {},
     "output_type": "execute_result"
    }
   ],
   "source": [
    "tuple = (1,2,3)\n",
    "tuple"
   ]
  },
  {
   "cell_type": "code",
   "execution_count": 8,
   "id": "227320f4",
   "metadata": {},
   "outputs": [
    {
     "ename": "AttributeError",
     "evalue": "'tuple' object has no attribute 'append'",
     "output_type": "error",
     "traceback": [
      "\u001b[1;31m---------------------------------------------------------------------------\u001b[0m",
      "\u001b[1;31mAttributeError\u001b[0m                            Traceback (most recent call last)",
      "Input \u001b[1;32mIn [8]\u001b[0m, in \u001b[0;36m<cell line: 1>\u001b[1;34m()\u001b[0m\n\u001b[1;32m----> 1\u001b[0m \u001b[38;5;28;43mtuple\u001b[39;49m\u001b[38;5;241;43m.\u001b[39;49m\u001b[43mappend\u001b[49m(\u001b[38;5;241m4\u001b[39m)\n",
      "\u001b[1;31mAttributeError\u001b[0m: 'tuple' object has no attribute 'append'"
     ]
    }
   ],
   "source": [
    "tuple.append(4) "
   ]
  },
  {
   "cell_type": "markdown",
   "id": "9fb4f0be",
   "metadata": {},
   "source": [
    "# Q.9. Write a code to create the given structure using only for loop"
   ]
  },
  {
   "cell_type": "raw",
   "id": "1aa1009c",
   "metadata": {},
   "source": [
    "# Q.9. Write a code to create the given structure using only for loop.\n",
    "*\n",
    "***\n",
    "*****\n",
    "*******\n",
    "*********"
   ]
  },
  {
   "cell_type": "code",
   "execution_count": 9,
   "id": "7ce08e81",
   "metadata": {},
   "outputs": [
    {
     "name": "stdout",
     "output_type": "stream",
     "text": [
      "    * \r\n",
      "   * * \r\n",
      "  * * * \r\n",
      " * * * * \r\n",
      "* * * * * \r\n"
     ]
    }
   ],
   "source": [
    "# Function to demonstrate printing pattern triangle\n",
    "def triangle(n):\n",
    "     \n",
    "    # number of spaces\n",
    "    k = n - 1\n",
    " \n",
    "    # outer loop to handle number of rows\n",
    "    for i in range(0, n):\n",
    "     \n",
    "        # inner loop to handle number spaces\n",
    "        # values changing acc. to requirement\n",
    "        for j in range(0, k):\n",
    "            print(end=\" \")\n",
    "     \n",
    "        # decrementing k after each loop\n",
    "        k = k - 1\n",
    "     \n",
    "        # inner loop to handle number of columns\n",
    "        # values changing acc. to outer loop\n",
    "        for j in range(0, i+1):\n",
    "         \n",
    "            # printing stars\n",
    "            print(\"* \", end=\"\")\n",
    "     \n",
    "        # ending line after each row\n",
    "        print(\"\\r\")\n",
    " \n",
    "# Driver Code\n",
    "n = 5\n",
    "triangle(n)"
   ]
  },
  {
   "cell_type": "code",
   "execution_count": 10,
   "id": "ffab60e9",
   "metadata": {},
   "outputs": [
    {
     "name": "stdout",
     "output_type": "stream",
     "text": [
      "        | | | | | | \n",
      "         | | | | | \n",
      "          | | | | \n",
      "           | | | \n",
      "            | | \n",
      "             | \n"
     ]
    }
   ],
   "source": [
    "rows = 5\n",
    "k = 2 * rows - 2\n",
    "for i in range(rows, -1, -1):\n",
    "    for j in range(k, 0, -1):\n",
    "        print(end=\" \")\n",
    "    k = k + 1\n",
    "    for j in range(0, i + 1):\n",
    "        print(\"|\", end=\" \")\n",
    "    print(\"\")"
   ]
  },
  {
   "cell_type": "code",
   "execution_count": null,
   "id": "be816614",
   "metadata": {},
   "outputs": [],
   "source": []
  },
  {
   "cell_type": "code",
   "execution_count": null,
   "id": "a20f5707",
   "metadata": {},
   "outputs": [],
   "source": []
  }
 ],
 "metadata": {
  "kernelspec": {
   "display_name": "Python 3 (ipykernel)",
   "language": "python",
   "name": "python3"
  },
  "language_info": {
   "codemirror_mode": {
    "name": "ipython",
    "version": 3
   },
   "file_extension": ".py",
   "mimetype": "text/x-python",
   "name": "python",
   "nbconvert_exporter": "python",
   "pygments_lexer": "ipython3",
   "version": "3.9.12"
  }
 },
 "nbformat": 4,
 "nbformat_minor": 5
}
