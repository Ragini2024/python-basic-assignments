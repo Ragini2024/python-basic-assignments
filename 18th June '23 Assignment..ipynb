{
 "cells": [
  {
   "cell_type": "markdown",
   "id": "8156b56d",
   "metadata": {},
   "source": [
    "# 1. What is the role of the 'else' block in a try-except statement? Provide an example scenario where it would be useful."
   ]
  },
  {
   "cell_type": "code",
   "execution_count": 5,
   "id": "56a8ca52",
   "metadata": {},
   "outputs": [
    {
     "name": "stdout",
     "output_type": "stream",
     "text": [
      "Yeah ! Your answer is : 2\n",
      "Sorry ! You are dividing by zero \n"
     ]
    }
   ],
   "source": [
    "#The else block lets you execute code when there is no error.\n",
    "def divide(x, y):\n",
    "    try:\n",
    "        result = x // y\n",
    "    except ZeroDivisionError:\n",
    "        print(\"Sorry ! You are dividing by zero \")\n",
    "    else:\n",
    "        print(\"Yeah ! Your answer is :\", result)\n",
    "\n",
    "        \n",
    "#results\n",
    "divide(4, 2)\n",
    "divide(3, 0)"
   ]
  },
  {
   "cell_type": "markdown",
   "id": "cfb05e59",
   "metadata": {},
   "source": [
    "# 2. Can a try-except block be nested inside another try-except block? Explain with an example."
   ]
  },
  {
   "cell_type": "code",
   "execution_count": 6,
   "id": "e15ef3b3",
   "metadata": {},
   "outputs": [
    {
     "name": "stdout",
     "output_type": "stream",
     "text": [
      "outer try block\n",
      "nested try block\n",
      "outer except block\n",
      "division by zero\n"
     ]
    }
   ],
   "source": [
    "#We can have nested try-except blocks in Python.\n",
    "x = 10\n",
    "y = 0\n",
    " \n",
    "try:\n",
    "    print(\"outer try block\")\n",
    "    try:\n",
    "        print(\"nested try block\")\n",
    "        print(x / y)\n",
    "    except TypeError as te:\n",
    "        print(\"nested except block\")\n",
    "        print(te)\n",
    "except ZeroDivisionError as ze:\n",
    "    print(\"outer except block\")\n",
    "    print(ze)"
   ]
  },
  {
   "cell_type": "markdown",
   "id": "cbd0e685",
   "metadata": {},
   "source": [
    "# 3. How can you create a custom exception class in Python? Provide an example that demonstrates its usage."
   ]
  },
  {
   "cell_type": "code",
   "execution_count": 7,
   "id": "536a83cb",
   "metadata": {},
   "outputs": [
    {
     "name": "stdout",
     "output_type": "stream",
     "text": [
      "enter a number15\n",
      "you cannnot vote\n"
     ]
    }
   ],
   "source": [
    "#In Python, we can define custom exceptions by creating a new class that is derived from the built-in Exception class.\n",
    "\n",
    "class WrongAge(Exception):\n",
    "    \"raise when the input is less then 18\"\n",
    "    pass\n",
    "\n",
    "n = 18\n",
    "\n",
    "try:\n",
    "    input_age = int(input(\"enter a number\"))\n",
    "    if input_age < n:\n",
    "        raise WrongAge\n",
    "    else:\n",
    "        print(\"you can vote\")\n",
    "except WrongAge:\n",
    "    print(\"you cannnot vote\")"
   ]
  },
  {
   "cell_type": "markdown",
   "id": "e6e8bcc1",
   "metadata": {},
   "source": [
    "# 4. What are some common exceptions that are built-in to Python?"
   ]
  },
  {
   "cell_type": "markdown",
   "id": "73c60503",
   "metadata": {},
   "source": [
    "#IndentationError ->\t    Raised when indentation is not correct\n",
    "\n",
    "#IndexError       ->        Raised when an index of a sequence does not exist\n",
    "\n",
    "#KeyError\t      ->        Raised when a key does not exist in a dictionary\n",
    "\n",
    "#KeyboardInterrupt->\t    Raised when the user presses Ctrl+c, Ctrl+z or Delete"
   ]
  },
  {
   "cell_type": "markdown",
   "id": "58ef6136",
   "metadata": {},
   "source": [
    "# 5. What is logging in Python, and why is it important in software development?"
   ]
  },
  {
   "cell_type": "markdown",
   "id": "d65fdc99",
   "metadata": {},
   "source": [
    "Logging is a way to store information about your script and track events that occur. When writing any complex script in Python, logging is essential for debugging software as you develop it. Without logging, finding the source of a problem in your code may be extremely time consuming."
   ]
  },
  {
   "cell_type": "markdown",
   "id": "5d72008b",
   "metadata": {},
   "source": [
    "# 6. Explain the purpose of log levels in Python logging and provide examples of when each log level would be appropriate."
   ]
  },
  {
   "cell_type": "markdown",
   "id": "e83b035e",
   "metadata": {},
   "source": [
    "Ans - Log levels relate to the “importance” of the log. For example, an “error” log is a top priority and should be considered more urgent than a “warn” log. A “debug” log is usually only useful when the application is being debugged."
   ]
  },
  {
   "cell_type": "markdown",
   "id": "ccb8b4f1",
   "metadata": {},
   "source": [
    "#The logging modules needed are already a part of the Python standard library. So the IT team just needs to import logging and everything is good to go. The default contains six standard logging levels that indicate the seriousness of an event. These are:\n",
    "\n",
    "#Notset = 0: This is the initial default setting of a log when it is created. It is not really relevant and most developers will not even take notice of this category. In many circles, it has already become nonessential. The root log is usually created with level WARNING.\n",
    "\n",
    "#Debug = 10: This level gives detailed information, useful only when a problem is being diagnosed.\n",
    "\n",
    "#Info = 20: This is used to confirm that everything is working as it should.\n",
    "\n",
    "#Warning = 30: This level indicates that something unexpected has happened or some problem is about to happen in the near future.\n",
    "\n",
    "#Error = 40: As it implies, an error has occurred. The software was unable to perform some function.\n",
    "\n",
    "#Critical = 50: A serious error has occurred. The program itself may shut down or not be able to continue running properly."
   ]
  },
  {
   "cell_type": "markdown",
   "id": "69797f82",
   "metadata": {},
   "source": [
    "# 7. What are log formatters in Python logging, and how can you customise the log message format using formatters?"
   ]
  },
  {
   "cell_type": "markdown",
   "id": "ff9cab2c",
   "metadata": {},
   "source": [
    "Ans - In Python's logging module, log formatters are used to define the structure and format of log messages. They allow you to customize the appearance of log messages by specifying the desired log message format.\n",
    "\n",
    "Log formatters are objects that define the layout and content of log records. They provide a set of attributes and methods to format the log records into a specific string representation. These formatted log messages can include information such as the log level, timestamp, logger name, and the actual log message itself."
   ]
  },
  {
   "cell_type": "code",
   "execution_count": 6,
   "id": "b54d709f",
   "metadata": {},
   "outputs": [],
   "source": [
    "import logging\n",
    "formatter = logging.Formatter('%(asctime)s - %(name)s - %(levelname)s - %(message)s')"
   ]
  },
  {
   "cell_type": "markdown",
   "id": "de19d26a",
   "metadata": {},
   "source": [
    "# 8. How can you set up logging to capture log messages from multiple modules or classes in a Python application?"
   ]
  },
  {
   "cell_type": "code",
   "execution_count": 2,
   "id": "ea01b4d5",
   "metadata": {},
   "outputs": [
    {
     "name": "stderr",
     "output_type": "stream",
     "text": [
      "WARNING:root:sorry u have low balance 2000\n"
     ]
    }
   ],
   "source": [
    "import logging\n",
    "logging.basicConfig(level=logging.WARNING)\n",
    "\n",
    "def balance(amount):\n",
    "    if amount<4000:\n",
    "        logging.warning(\"sorry u have low balance %s\", amount)\n",
    "\n",
    "        \n",
    "balance(2000)"
   ]
  },
  {
   "cell_type": "markdown",
   "id": "7f204ce7",
   "metadata": {},
   "source": [
    "# 9. What is the difference between the logging and print statements in Python? When should you use logging over print statements in a real-world application?"
   ]
  },
  {
   "cell_type": "code",
   "execution_count": 12,
   "id": "3cd77c85",
   "metadata": {},
   "outputs": [
    {
     "data": {
      "text/html": [
       "<div>\n",
       "<style scoped>\n",
       "    .dataframe tbody tr th:only-of-type {\n",
       "        vertical-align: middle;\n",
       "    }\n",
       "\n",
       "    .dataframe tbody tr th {\n",
       "        vertical-align: top;\n",
       "    }\n",
       "\n",
       "    .dataframe thead th {\n",
       "        text-align: right;\n",
       "    }\n",
       "</style>\n",
       "<table border=\"1\" class=\"dataframe\">\n",
       "  <thead>\n",
       "    <tr style=\"text-align: right;\">\n",
       "      <th></th>\n",
       "      <th>logging</th>\n",
       "      <th>print</th>\n",
       "    </tr>\n",
       "  </thead>\n",
       "  <tbody>\n",
       "    <tr>\n",
       "      <th>0</th>\n",
       "      <td>Record events and errors that occur during the...</td>\n",
       "      <td>Displays the information to the console for th...</td>\n",
       "    </tr>\n",
       "    <tr>\n",
       "      <th>1</th>\n",
       "      <td>Mainly used in the production environment.</td>\n",
       "      <td>Mainly for debugging.</td>\n",
       "    </tr>\n",
       "  </tbody>\n",
       "</table>\n",
       "</div>"
      ],
      "text/plain": [
       "                                             logging  \\\n",
       "0  Record events and errors that occur during the...   \n",
       "1         Mainly used in the production environment.   \n",
       "\n",
       "                                               print  \n",
       "0  Displays the information to the console for th...  \n",
       "1                              Mainly for debugging.  "
      ]
     },
     "execution_count": 12,
     "metadata": {},
     "output_type": "execute_result"
    }
   ],
   "source": [
    "import pandas as pd\n",
    "data = [[\"Record events and errors that occur during the execution of Python programs.\", \"Displays the information to the console for the debugging purposes.\"], [\"Mainly used in the production environment.\", \"Mainly for debugging.\"]]\n",
    "pd.DataFrame(data, columns=[\"logging\", \"print\"])"
   ]
  },
  {
   "cell_type": "markdown",
   "id": "9cb25e82",
   "metadata": {},
   "source": [
    "whenever you want much more structured way of debugging then you can use logging.\n",
    "With the use of Loggers, we can customize what information is to be printed along with the actual message. The information that we can print includes the package name, log level, line number, timestamp, method name, etc."
   ]
  },
  {
   "cell_type": "markdown",
   "id": "8df7703c",
   "metadata": {},
   "source": [
    "# 10. Write a Python program that logs a message to a file named \"app.log\" with the following requirements:\n",
    "● The log message should be \"Hello, World!\"\n",
    "● The log level should be set to \"INFO.\"\n",
    "● The log file should append new log entries without overwriting previous ones."
   ]
  },
  {
   "cell_type": "code",
   "execution_count": 3,
   "id": "6121356a",
   "metadata": {},
   "outputs": [],
   "source": [
    "import logging\n",
    "\n",
    "# Set up logging configuration\n",
    "logging.basicConfig(\n",
    "    level=logging.INFO,\n",
    "    format='%(asctime)s - %(levelname)s - %(message)s',\n",
    "    filename='app.log',\n",
    "    filemode='a'\n",
    ")\n",
    "\n",
    "# Log the message\n",
    "logging.info(\"Hello, World!\")"
   ]
  },
  {
   "cell_type": "markdown",
   "id": "4a37f5ee",
   "metadata": {},
   "source": [
    "# 11. Create a Python program that logs an error message to the console and a file named \"errors.log\" if an exception occurs during the program's execution. The error message should include the exception type and a timestamp."
   ]
  },
  {
   "cell_type": "code",
   "execution_count": 4,
   "id": "3a1c3f5e",
   "metadata": {},
   "outputs": [
    {
     "name": "stderr",
     "output_type": "stream",
     "text": [
      "ERROR:root:Exception: ValueError | Timestamp: 2023-07-09 14:00:45.570091\n"
     ]
    }
   ],
   "source": [
    "import logging\n",
    "import datetime\n",
    "\n",
    "# Set up logging configuration\n",
    "logging.basicConfig(\n",
    "    level=logging.ERROR,\n",
    "    format='%(asctime)s - %(levelname)s - %(message)s',\n",
    "    handlers=[\n",
    "        logging.FileHandler('errors.log', mode='a'),\n",
    "        logging.StreamHandler()\n",
    "    ]\n",
    ")\n",
    "\n",
    "try:\n",
    "    # Code that may raise an exception\n",
    "    # ...\n",
    "    raise ValueError(\"Example exception\")\n",
    "except Exception as e:\n",
    "    # Log the error message with exception type and timestamp\n",
    "    error_message = f\"Exception: {type(e).__name__} | Timestamp: {datetime.datetime.now()}\"\n",
    "    logging.error(error_message)"
   ]
  },
  {
   "cell_type": "code",
   "execution_count": null,
   "id": "c8819cb1",
   "metadata": {},
   "outputs": [],
   "source": []
  }
 ],
 "metadata": {
  "kernelspec": {
   "display_name": "Python 3 (ipykernel)",
   "language": "python",
   "name": "python3"
  },
  "language_info": {
   "codemirror_mode": {
    "name": "ipython",
    "version": 3
   },
   "file_extension": ".py",
   "mimetype": "text/x-python",
   "name": "python",
   "nbconvert_exporter": "python",
   "pygments_lexer": "ipython3",
   "version": "3.9.12"
  }
 },
 "nbformat": 4,
 "nbformat_minor": 5
}
