{
 "cells": [
  {
   "cell_type": "markdown",
   "id": "aadee583",
   "metadata": {},
   "source": [
    "# 1. In the below elements which of them are values or an expression? eg:- values can be integer or string and expressions will be mathematical operators.\n",
    " * \n",
    "'hello'\n",
    "-87.8\n",
    "- \n",
    "/ \n",
    "+\n",
    "6 \n",
    "\n",
    "Answer - Vakues are - 'hello', 6 & -87.8\n",
    "Expressions are  - *, /, -, +\n"
   ]
  },
  {
   "cell_type": "markdown",
   "id": "efef24c6",
   "metadata": {},
   "source": [
    "# 2.What is the difference between string and variable?\n",
    "\n",
    "Variables are symbols that you can use to store data in a program. You can think of them as an empty box that you fill with some data or value\n",
    "\n",
    "Strings are data, so we can use them to fill up a variable"
   ]
  },
  {
   "cell_type": "markdown",
   "id": "c6acb4d4",
   "metadata": {},
   "source": [
    "# 3. Describe three different data types.\n",
    "Text Type:\tstr\n",
    "Numeric Types:\tint, float, complex\n",
    "Sequence Types:\tlist, tuple, range"
   ]
  },
  {
   "cell_type": "markdown",
   "id": "70bf1724",
   "metadata": {},
   "source": [
    "# 4.What is an expression made up of? What do all expressions do?\n",
    "An expression is a combination of values, variables, operators, and calls to functions. Expressions need to be evaluated. If you ask Python to print an expression, the interpreter evaluates the expression and displays the result.\n"
   ]
  },
  {
   "cell_type": "markdown",
   "id": "3010bf6b",
   "metadata": {},
   "source": [
    "# 5. This assignment statements, like spam = 10. What is the difference between an expression and a statement?\n",
    "An expression evaluates to a single value. A statement does not.\n"
   ]
  },
  {
   "cell_type": "markdown",
   "id": "66926361",
   "metadata": {},
   "source": [
    "# 6. After running the following code, what does the variable bacon contain?\n",
    "bacon = 22\n",
    "bacon + 1\n",
    "Answer - 22"
   ]
  },
  {
   "cell_type": "markdown",
   "id": "a6ecf328",
   "metadata": {},
   "source": [
    "# 7. What should the values of the following two terms be?\n",
    "'spam' + 'spamspam'\n",
    "'spam' * 3\n",
    "\n",
    "Answer - 'spamspamspam'\n",
    "\n"
   ]
  },
  {
   "cell_type": "markdown",
   "id": "fe047a55",
   "metadata": {},
   "source": [
    "# 8. Why is eggs a valid variable name while 100 is invalid?\n",
    "We can not specify the identifier which starts with a number because there are seven phases of compiler as follows. None of above supports that a variable starts with a number. This is because the compiler gets confused if is a number or identifier until it reaches an alphabet after the numbers."
   ]
  },
  {
   "cell_type": "markdown",
   "id": "817d59fc",
   "metadata": {},
   "source": [
    "# 9. What three functions can be used to get the integer, floating-point number, or string version of a value?\n",
    "\n",
    "The int(), float(), and str() functions will evaluate to the integer, floating-point number, and string versions of the value passed to them."
   ]
  },
  {
   "cell_type": "markdown",
   "id": "58c7403d",
   "metadata": {},
   "source": [
    "# 10. Why does this expression cause an error? How can you fix it?\n",
    "'I have eaten ' + 99 + ' burritos.'\n",
    "\n",
    "\n",
    "can only concatenate str (not \"int\") to str - we can solve it by removing value 99 and the two string will be concatinated and will get the result like  - 'I have eaten  burritos.'"
   ]
  },
  {
   "cell_type": "code",
   "execution_count": null,
   "id": "c9f52ebf",
   "metadata": {},
   "outputs": [],
   "source": []
  }
 ],
 "metadata": {
  "kernelspec": {
   "display_name": "Python 3 (ipykernel)",
   "language": "python",
   "name": "python3"
  },
  "language_info": {
   "codemirror_mode": {
    "name": "ipython",
    "version": 3
   },
   "file_extension": ".py",
   "mimetype": "text/x-python",
   "name": "python",
   "nbconvert_exporter": "python",
   "pygments_lexer": "ipython3",
   "version": "3.9.12"
  }
 },
 "nbformat": 4,
 "nbformat_minor": 5
}
