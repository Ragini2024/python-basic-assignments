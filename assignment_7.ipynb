{
 "cells": [
  {
   "cell_type": "markdown",
   "id": "82d6ea95",
   "metadata": {},
   "source": [
    "# Q.1. Create two int type variables, apply addition, subtraction, division and multiplications and store the results in variables. Then print the data in the following format by calling the variables:\n",
    "\n",
    "First variable is __ & second variable is __.\n",
    "Addition: __ + __ = __\n",
    "Subtraction: __ - __ = __\n",
    "Multiplication: __ * __ = __\n",
    "Division: __ / __ = __"
   ]
  },
  {
   "cell_type": "code",
   "execution_count": 3,
   "id": "ac06f2e5",
   "metadata": {},
   "outputs": [
    {
     "name": "stdout",
     "output_type": "stream",
     "text": [
      "enter first number100\n",
      "enter second number2\n",
      "First variable is 100 & second variable is 2\n",
      "addition: 100 & 2 is 102\n",
      "substraction: 100 & 2 is 98\n",
      "multiplication: 100 & 2 is 200\n",
      "division: 100 & 2 is 50.0\n"
     ]
    }
   ],
   "source": [
    "num1 = int(input(\"enter first number\"))\n",
    "num2 = int(input(\"enter second number\"))\n",
    "\n",
    "addition  = int(num1)+ int(num2)\n",
    "substraction  = num1 - num2\n",
    "multiplication  = num1 * num2\n",
    "division  = num1/num2\n",
    "print(\"First variable is {0} & second variable is {1}\" .format(num1, num2))\n",
    "print('addition: {0} & {1} is {2}'.format(num1,num2,addition))\n",
    "print('substraction: {0} & {1} is {2}'.format(num1,num2,substraction))\n",
    "print('multiplication: {0} & {1} is {2}'.format(num1,num2,multiplication))\n",
    "print('division: {0} & {1} is {2}'.format(num1,num2,division))"
   ]
  },
  {
   "cell_type": "markdown",
   "id": "fe3de0f0",
   "metadata": {},
   "source": [
    "# Q.2. What is the difference between the following operators:\n",
    "(i) ‘/’ & ‘//’\n",
    "(ii) ‘**’ & ‘^’\n",
    "\n",
    "\n"
   ]
  },
  {
   "cell_type": "raw",
   "id": "b8f92dc6",
   "metadata": {},
   "source": [
    "# Answer  - '/' - this is division operator and '//' - this is floor division operator. The difference between Regular Division and Floor Division is that the regular division returns the exact result in floating-point value. While, the floor division returns the nearest whole integer point value.\n",
    "\n",
    "\n",
    "'*' - The multiplication operator multiplies any two numbers and gives the result. Additionally, we represent it using the asterisk ()* symbol in Python.\n",
    "\n",
    "'**' - Power (exponent) operator\n",
    "The operator that can be used to perform the exponent arithmetic in Python is ** . Given two real number operands, one on each side of the operator, it performs the exponential calculation ( 2**5 translates to 2*2*2*2*2 )."
   ]
  },
  {
   "cell_type": "markdown",
   "id": "24183b4d",
   "metadata": {},
   "source": [
    "# Q.3. List the logical operators.\n",
    "\n",
    "\n",
    "answer  - Python has three logical operators: and , or , and not .\n"
   ]
  },
  {
   "cell_type": "markdown",
   "id": "002510bc",
   "metadata": {},
   "source": [
    "# Q.4. Explain right shift operator and left shift operator with examples.\n",
    "\n",
    "\n",
    "Bitwise Left Shift Operator\n",
    "Python bitwise left shift operator shifts the left operand bits towards the left side for the given number of times in the right operand. In simple terms, the binary number is appended with 0s at the end.\n",
    "\n",
    "Bitwise Right Shift Operator\n",
    "Python right shift operator is exactly the opposite of the left shift operator. Then left side operand bits are moved towards the right side for the given number of times. In simple terms, the right side bits are removed."
   ]
  },
  {
   "cell_type": "markdown",
   "id": "a489b3dd",
   "metadata": {},
   "source": [
    "# Q.5. Create a list containing int type data of length 15. Then write a code to check if 10 is present in the list or not."
   ]
  },
  {
   "cell_type": "code",
   "execution_count": 11,
   "id": "84e188ab",
   "metadata": {},
   "outputs": [
    {
     "name": "stdout",
     "output_type": "stream",
     "text": [
      "[0, 1, 2, 3, 4, 5, 6, 7, 8, 9, 10, 11, 12, 13, 14]\n"
     ]
    }
   ],
   "source": [
    "list = [*range(0, 15)]\n",
    "print(list)"
   ]
  },
  {
   "cell_type": "code",
   "execution_count": 12,
   "id": "954aa5f3",
   "metadata": {},
   "outputs": [
    {
     "data": {
      "text/plain": [
       "15"
      ]
     },
     "execution_count": 12,
     "metadata": {},
     "output_type": "execute_result"
    }
   ],
   "source": [
    "len(list)"
   ]
  },
  {
   "cell_type": "code",
   "execution_count": 14,
   "id": "407d04ef",
   "metadata": {},
   "outputs": [
    {
     "name": "stdout",
     "output_type": "stream",
     "text": [
      "number is present\n"
     ]
    }
   ],
   "source": [
    "for i in list:\n",
    "    if(i == 10):\n",
    "        print(\"number is present\")\n",
    "   \n",
    "    "
   ]
  },
  {
   "cell_type": "code",
   "execution_count": null,
   "id": "d41df2cf",
   "metadata": {},
   "outputs": [],
   "source": []
  },
  {
   "cell_type": "code",
   "execution_count": null,
   "id": "c6f6c8d8",
   "metadata": {},
   "outputs": [],
   "source": []
  },
  {
   "cell_type": "code",
   "execution_count": null,
   "id": "499ff00d",
   "metadata": {},
   "outputs": [],
   "source": []
  },
  {
   "cell_type": "code",
   "execution_count": null,
   "id": "2e834961",
   "metadata": {},
   "outputs": [],
   "source": []
  }
 ],
 "metadata": {
  "kernelspec": {
   "display_name": "Python 3 (ipykernel)",
   "language": "python",
   "name": "python3"
  },
  "language_info": {
   "codemirror_mode": {
    "name": "ipython",
    "version": 3
   },
   "file_extension": ".py",
   "mimetype": "text/x-python",
   "name": "python",
   "nbconvert_exporter": "python",
   "pygments_lexer": "ipython3",
   "version": "3.9.12"
  }
 },
 "nbformat": 4,
 "nbformat_minor": 5
}
