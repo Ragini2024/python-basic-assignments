{
 "cells": [
  {
   "cell_type": "markdown",
   "id": "9aa59152",
   "metadata": {},
   "source": [
    "# 1. What is the relationship between def statements and lambda expressions ?\n",
    "The def keyword is used to define normal functions, while the lambda keyword is used to define anonymous functions. They are, however, limited to a single line of expression. They, like regular functions, can accept several parameters"
   ]
  },
  {
   "cell_type": "markdown",
   "id": "21fb1299",
   "metadata": {},
   "source": [
    "# 2. What is the benefit of lambda?\n",
    "Fewer Lines of Code\n",
    "Lambda functions are inline functions and thus execute comparatively faster Many times lambda functions make code much more readable by avoiding the logical jumps caused by function calls"
   ]
  },
  {
   "cell_type": "markdown",
   "id": "8ee7fe8e",
   "metadata": {},
   "source": [
    "# 3. Compare and contrast map, filter, and reduce.\n",
    "\n",
    "\n",
    " map applies as a transformation to an element.\n",
    "The map() function iterates through all items in the given iterable and executes the function we passed as an argument on each of them. Syntax : map(function, iterable(s))\n",
    "\n",
    "filter accumulates only elements matching a condition.\n",
    "filter() forms a new list that contains only elements that satisfy a certain condition, i.e. the function we passed returns True Syntax : filter(function, iterable(s))\n",
    "\n",
    "reduce accumulates all elements to a single value, by using immutable values\n",
    "reduce() works by calling the function we passed for the first two items in the sequence. The result returned by the function is used in another call to function alongside with the next (third in this case), element Syntax : reduce(function, sequence[, initial])"
   ]
  },
  {
   "cell_type": "markdown",
   "id": "cc9572c1",
   "metadata": {},
   "source": [
    "# 4. What are function annotations, and how are they used?\n",
    "\n",
    "Function annotations are some random expressions which are written with the functions, and they are evaluated at compile time. They do not exist at run time, and there is no meaning of these expressions to python. They are used and interpreted by a third party or external python libraries."
   ]
  },
  {
   "cell_type": "markdown",
   "id": "9beb0520",
   "metadata": {},
   "source": [
    "# 5. What are recursive functions, and how are they used?\n",
    "\n",
    "A recursive function is a function in code that refers to itself for execution. Recursive functions can be simple or elaborate. They allow for more efficient code writing, for instance, in the listing or compiling of sets of numbers, strings or other variables through a single reiterated process"
   ]
  },
  {
   "cell_type": "markdown",
   "id": "84e03229",
   "metadata": {},
   "source": [
    "# 6. What are some general design guidelines for coding functions?\n",
    "\n",
    "\n",
    "Use 4-space indentation and no tabs.\n",
    "Use docstrings\n",
    "Wrap linethat they don’t exceed 79 characters\n",
    "Use of regular and updated comments are valuable to both the coders and users\n",
    "Use of trailing commas : in case of tuple -> ('good',)\n",
    "Use Python’s default UTF-8 or ASCII encodings and not any fancy encodings\n",
    "Naming Conventions"
   ]
  },
  {
   "cell_type": "markdown",
   "id": "2a2a3cee",
   "metadata": {},
   "source": [
    "# 7. Name three or more ways that functions can communicate results to a caller.\n",
    "\n",
    "\n",
    "Function can return single value\n",
    "Can return multiple values, tuple\n",
    "can return list,dictionary\n",
    "can return function object\n",
    "can return class object"
   ]
  },
  {
   "cell_type": "code",
   "execution_count": null,
   "id": "16ecad6d",
   "metadata": {},
   "outputs": [],
   "source": []
  },
  {
   "cell_type": "code",
   "execution_count": null,
   "id": "25f1a27f",
   "metadata": {},
   "outputs": [],
   "source": []
  }
 ],
 "metadata": {
  "kernelspec": {
   "display_name": "Python 3 (ipykernel)",
   "language": "python",
   "name": "python3"
  },
  "language_info": {
   "codemirror_mode": {
    "name": "ipython",
    "version": 3
   },
   "file_extension": ".py",
   "mimetype": "text/x-python",
   "name": "python",
   "nbconvert_exporter": "python",
   "pygments_lexer": "ipython3",
   "version": "3.9.12"
  }
 },
 "nbformat": 4,
 "nbformat_minor": 5
}
