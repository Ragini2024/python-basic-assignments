{
 "cells": [
  {
   "cell_type": "markdown",
   "id": "bbabd972",
   "metadata": {},
   "source": [
    "# 1. In Python, what is the difference between a built-in function and a user-defined function? Provide an example of each."
   ]
  },
  {
   "cell_type": "markdown",
   "id": "832b82ba",
   "metadata": {},
   "source": [
    "If you define the function yourself, it is a user-defined function. On the other hand, the Python function that come along with Python are known as in-built functions. All the functions apart from in-built functions and library functions come under the category of user-defined functions."
   ]
  },
  {
   "cell_type": "code",
   "execution_count": 6,
   "id": "760a84a2",
   "metadata": {},
   "outputs": [
    {
     "name": "stdout",
     "output_type": "stream",
     "text": [
      "The product is 30\n"
     ]
    },
    {
     "data": {
      "text/plain": [
       "30"
      ]
     },
     "execution_count": 6,
     "metadata": {},
     "output_type": "execute_result"
    }
   ],
   "source": [
    "#user-define-function\n",
    "def multiply_numbers(a,b):\n",
    "   product = a * b\n",
    "   return product\n",
    "n1 = 5\n",
    "\n",
    "n2 = 6\n",
    "\n",
    "print(\"The product is\", multiply_numbers(n1, n2))\n",
    "\n",
    "#or\n",
    "multiply_numbers(5,6)"
   ]
  },
  {
   "cell_type": "code",
   "execution_count": 7,
   "id": "eec6562f",
   "metadata": {},
   "outputs": [
    {
     "data": {
      "text/plain": [
       "5"
      ]
     },
     "execution_count": 7,
     "metadata": {},
     "output_type": "execute_result"
    }
   ],
   "source": [
    "#built-in-function\n",
    "\n",
    "a = [2,3,4,5,6]\n",
    "len(a)"
   ]
  },
  {
   "cell_type": "markdown",
   "id": "f7189c8b",
   "metadata": {},
   "source": [
    "# 2. How can you pass arguments to a function in Python? Explain the difference between positional arguments and keyword arguments."
   ]
  },
  {
   "cell_type": "markdown",
   "id": "24630f69",
   "metadata": {},
   "source": [
    "Information can be passed into functions as arguments. Arguments are specified after the function name, inside the parentheses. You can add as many arguments as you want, just separate them with a comma.\n",
    "\n",
    "A positional argument is a name that is not followed by an equal sign (=) and default value. A keyword argument is followed by an equal sign and an expression that gives its default value."
   ]
  },
  {
   "cell_type": "markdown",
   "id": "8e3e5923",
   "metadata": {},
   "source": [
    "# 3. What is the purpose of the return statement in a function? Can a function have multiple return statements? Explain with an example."
   ]
  },
  {
   "cell_type": "markdown",
   "id": "83c2389a",
   "metadata": {},
   "source": [
    "A return statement ends the processing of the current function and returns control to the caller of the function.\n",
    "\n",
    "A function can have more than one return statement, but only ever run one based on a condition"
   ]
  },
  {
   "cell_type": "code",
   "execution_count": 8,
   "id": "1ca9531c",
   "metadata": {},
   "outputs": [],
   "source": [
    "def squre(n):\n",
    "    s = n*n\n",
    "    return s"
   ]
  },
  {
   "cell_type": "code",
   "execution_count": 9,
   "id": "d55840df",
   "metadata": {},
   "outputs": [
    {
     "data": {
      "text/plain": [
       "4"
      ]
     },
     "execution_count": 9,
     "metadata": {},
     "output_type": "execute_result"
    }
   ],
   "source": [
    "squre(2)"
   ]
  },
  {
   "cell_type": "markdown",
   "id": "cf3e6e0a",
   "metadata": {},
   "source": [
    "# 4. What are lambda functions in Python? How are they different from regular functions? Provide an example where a lambda function can be useful."
   ]
  },
  {
   "cell_type": "markdown",
   "id": "bd693133",
   "metadata": {},
   "source": [
    "A lambda function is a small anonymous function in Python. It is defined using the \"lambda\" keyword and does not have a name. It is typically used for short, throwaway functions, such as for sorting or for applying a function to a list of elements."
   ]
  },
  {
   "cell_type": "code",
   "execution_count": 11,
   "id": "cf5485ae",
   "metadata": {},
   "outputs": [
    {
     "data": {
      "text/plain": [
       "[2, 4, 6, 8]"
      ]
     },
     "execution_count": 11,
     "metadata": {},
     "output_type": "execute_result"
    }
   ],
   "source": [
    "l = [2,4,6,3,9,8]\n",
    "list(filter(lambda x:x%2==0, l)) #filtering data from l list "
   ]
  },
  {
   "cell_type": "markdown",
   "id": "0e2a4110",
   "metadata": {},
   "source": [
    "# 5. How does the concept of \"scope\" apply to functions in Python? Explain the difference between local scope and global scope."
   ]
  },
  {
   "cell_type": "markdown",
   "id": "bdade533",
   "metadata": {},
   "source": [
    "There are two types of variables: global variables and local variables. The scope of global variables is the entire program whereas the scope of local variable is limited to the function where it is defined."
   ]
  },
  {
   "cell_type": "markdown",
   "id": "0c9b2e8d",
   "metadata": {},
   "source": [
    "# 6. How can you use the \"return\" statement in a Python function to return multiple values?"
   ]
  },
  {
   "cell_type": "markdown",
   "id": "ef59040e",
   "metadata": {},
   "source": [
    "In Python, you can return multiple values by simply separating them with commas in the return statement. In Python, comma-separated values are treated as tuples, even without parentheses, unless the syntax requires them. Therefore, the function in the example below returns a tuple."
   ]
  },
  {
   "cell_type": "code",
   "execution_count": 13,
   "id": "884a2a9a",
   "metadata": {},
   "outputs": [
    {
     "data": {
      "text/plain": [
       "('abc', 100)"
      ]
     },
     "execution_count": 13,
     "metadata": {},
     "output_type": "execute_result"
    }
   ],
   "source": [
    "def test():\n",
    "    return 'abc', 100\n",
    "\n",
    "test()"
   ]
  },
  {
   "cell_type": "markdown",
   "id": "7d97b7d7",
   "metadata": {},
   "source": [
    "# 7. What is the difference between the \"pass by value\" and \"pass by reference\" concepts when it comes to function arguments in Python?"
   ]
  },
  {
   "cell_type": "markdown",
   "id": "cf1eedaa",
   "metadata": {},
   "source": [
    "When you pass function arguments by reference, those arguments are only references to existing values. In contrast, when you pass arguments by value, those arguments become independent copies of the original values."
   ]
  },
  {
   "cell_type": "markdown",
   "id": "0ccae99e",
   "metadata": {},
   "source": [
    "# 8. Create a function that can intake integer or decimal value and do following operations:\n",
    "a. Logarithmic function (log x)\n",
    "b. Exponential function (exp(x))\n",
    "c. Power function with base 2 (2\n",
    "x\n",
    ")\n",
    "\n",
    "d. Square root"
   ]
  },
  {
   "cell_type": "code",
   "execution_count": 3,
   "id": "76e424bb",
   "metadata": {},
   "outputs": [
    {
     "name": "stdout",
     "output_type": "stream",
     "text": [
      "Logarithm base 10 of given number is : 1.146128035678238\n"
     ]
    }
   ],
   "source": [
    "#a. Logarithmic function (log x)\n",
    "import math\n",
    "\n",
    "def hello(a):\n",
    "    print (\"Logarithm base 10 of given number is : \",  end=\"\")\n",
    "    print (math.log10(a))\n",
    "\n",
    "\n",
    "hello(14)\n",
    "    "
   ]
  },
  {
   "cell_type": "code",
   "execution_count": 6,
   "id": "c4dac3ff",
   "metadata": {},
   "outputs": [
    {
     "name": "stdout",
     "output_type": "stream",
     "text": [
      "Exponential of given number is : 22026.465794806718\n"
     ]
    }
   ],
   "source": [
    "#b. Exponential function (exp(x))\n",
    "#Return e raised to the power x, where e = 2.718281… is the base of natural logarithms. \n",
    "\n",
    "def hello_exp(b):\n",
    "    print (\"Exponential of given number is : \",  end=\"\")\n",
    "    print (math.exp(b))\n",
    "\n",
    "\n",
    "hello_exp(10)\n"
   ]
  },
  {
   "cell_type": "code",
   "execution_count": 9,
   "id": "9f735d84",
   "metadata": {},
   "outputs": [
    {
     "name": "stdout",
     "output_type": "stream",
     "text": [
      "4.0\n"
     ]
    }
   ],
   "source": [
    "#c. Power function with base 2 (2x)\n",
    "\n",
    "def hello_pow(c, d):\n",
    "    print (math.pow(c, d))\n",
    "\n",
    "\n",
    "hello_pow(2, 2)"
   ]
  },
  {
   "cell_type": "code",
   "execution_count": 10,
   "id": "1aec0d64",
   "metadata": {},
   "outputs": [
    {
     "name": "stdout",
     "output_type": "stream",
     "text": [
      "square root of given number is : 3.0\n"
     ]
    }
   ],
   "source": [
    "#d. Square root\n",
    "\n",
    "def hello_squareroot(e):\n",
    "    print (\"square root of given number is : \",  end=\"\")\n",
    "    print (math.sqrt(e))\n",
    "    \n",
    "hello_squareroot(9)\n",
    "\n",
    "    "
   ]
  },
  {
   "cell_type": "markdown",
   "id": "806c90f0",
   "metadata": {},
   "source": [
    "# 9. Create a function that takes a full name as an argument and returns first name and last name."
   ]
  },
  {
   "cell_type": "code",
   "execution_count": 21,
   "id": "3a1312f2",
   "metadata": {},
   "outputs": [
    {
     "name": "stdout",
     "output_type": "stream",
     "text": [
      "Ragini Gour\n"
     ]
    }
   ],
   "source": [
    "\n",
    "def full_name(a,b):\n",
    "    print(a +\" \"+b)\n",
    "  \n",
    "    \n",
    "full_name(\"Ragini\", \"Gour\")    "
   ]
  },
  {
   "cell_type": "code",
   "execution_count": null,
   "id": "8bf47e14",
   "metadata": {},
   "outputs": [],
   "source": []
  },
  {
   "cell_type": "code",
   "execution_count": null,
   "id": "7e0f47ef",
   "metadata": {},
   "outputs": [],
   "source": []
  }
 ],
 "metadata": {
  "kernelspec": {
   "display_name": "Python 3 (ipykernel)",
   "language": "python",
   "name": "python3"
  },
  "language_info": {
   "codemirror_mode": {
    "name": "ipython",
    "version": 3
   },
   "file_extension": ".py",
   "mimetype": "text/x-python",
   "name": "python",
   "nbconvert_exporter": "python",
   "pygments_lexer": "ipython3",
   "version": "3.9.12"
  }
 },
 "nbformat": 4,
 "nbformat_minor": 5
}
