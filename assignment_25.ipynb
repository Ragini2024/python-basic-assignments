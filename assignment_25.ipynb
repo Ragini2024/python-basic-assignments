{
 "cells": [
  {
   "cell_type": "markdown",
   "id": "298b6b9a",
   "metadata": {},
   "source": [
    "# 1) . What is the difference between enclosing a list comprehension in square brackets and parentheses?\n",
    "\n",
    "Square brackets are lists while parentheses are tuples.\n"
   ]
  },
  {
   "cell_type": "markdown",
   "id": "c466df63",
   "metadata": {},
   "source": [
    "# 2) What is the relationship between generators and iterators?\n",
    "\n",
    "iterators are objects that can be iterated on, and generators are special functions that leverage lazy evaluation. Implementing your own iterator means you must create an __iter__() and __next__() method, whereas a generator can be implemented using the yield keyword in a Python function or comprehension."
   ]
  },
  {
   "cell_type": "markdown",
   "id": "cd80f814",
   "metadata": {},
   "source": [
    "# 3) What are the signs that a function is a generator function?\n",
    "\n",
    "We can only tell it's a generator function by the presence of a yield statement. A yield statement turns a regular function into a generator function."
   ]
  },
  {
   "cell_type": "markdown",
   "id": "c1a1aeee",
   "metadata": {},
   "source": [
    "# 4) What is the purpose of a yield statement?\n",
    "The yield statement returns a generator object to the one who calls the function which contains yield, instead of simply returning a value"
   ]
  },
  {
   "cell_type": "markdown",
   "id": "b9f16430",
   "metadata": {},
   "source": [
    "# 5) What is the relationship between map calls and list comprehensions? Make a comparison and contrast between the two.\n",
    "\n",
    "List comprehension returns a list, whereas the map function returns an object of Iterable. List comprehension execution is faster than that of map function when the formula expression is huge and complex. Map function is faster than list comprehension when the formula is already defined as a function earlier."
   ]
  },
  {
   "cell_type": "code",
   "execution_count": null,
   "id": "cb097351",
   "metadata": {},
   "outputs": [],
   "source": []
  },
  {
   "cell_type": "code",
   "execution_count": null,
   "id": "34c3caad",
   "metadata": {},
   "outputs": [],
   "source": []
  },
  {
   "cell_type": "code",
   "execution_count": null,
   "id": "54c98010",
   "metadata": {},
   "outputs": [],
   "source": []
  }
 ],
 "metadata": {
  "kernelspec": {
   "display_name": "Python 3 (ipykernel)",
   "language": "python",
   "name": "python3"
  },
  "language_info": {
   "codemirror_mode": {
    "name": "ipython",
    "version": 3
   },
   "file_extension": ".py",
   "mimetype": "text/x-python",
   "name": "python",
   "nbconvert_exporter": "python",
   "pygments_lexer": "ipython3",
   "version": "3.9.12"
  }
 },
 "nbformat": 4,
 "nbformat_minor": 5
}
