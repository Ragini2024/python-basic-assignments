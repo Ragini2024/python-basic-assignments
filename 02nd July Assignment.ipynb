{
 "cells": [
  {
   "cell_type": "markdown",
   "id": "31dbe0e0",
   "metadata": {},
   "source": [
    "# 1. Explain what inheritance is in object-oriented programming and why it is used."
   ]
  },
  {
   "cell_type": "markdown",
   "id": "8a168ab3",
   "metadata": {},
   "source": [
    "Inheritance allows programmers to create classes that are built upon existing classes, to specify a new implementation while maintaining the same behaviors (realizing an interface), to reuse code and to independently extend original software via public classes and interfaces."
   ]
  },
  {
   "cell_type": "markdown",
   "id": "1d1d0997",
   "metadata": {},
   "source": [
    "# 2. Discuss the concept of single inheritance and multiple inheritance, highlighting their differences and advantages."
   ]
  },
  {
   "cell_type": "markdown",
   "id": "bc952e0e",
   "metadata": {},
   "source": [
    "Single Inheritance:\n",
    "Single inheritance refers to the ability of a class to inherit properties and behaviors from a single base class. In other words, a class can have only one direct superclass. The derived class inherits all the attributes and methods of the base class and can override or extend them as needed.\n",
    "\n",
    "Multiple Inheritance:\n",
    "Multiple inheritance allows a class to inherit properties and behaviors from multiple base classes. A class can derive from two or more superclasses, combining their attributes and methods into a single derived class. In Python, the order of the base classes listed in the inheritance declaration determines the method resolution order (MRO) of the derived class."
   ]
  },
  {
   "cell_type": "markdown",
   "id": "a99e4989",
   "metadata": {},
   "source": [
    "Advantages of Single Inheritance:\n",
    "Simplicity: Single inheritance offers a straightforward and easy-to-understand class hierarchy. It promotes a linear and simple relationship between classes, making the code easier to manage and maintain.\n",
    "\n",
    "Code Reusability: Single inheritance allows for code reuse by inheriting and extending the functionality of a single base class. This promotes modular design and avoids code duplication.\n",
    "\n",
    "Encapsulation: Single inheritance helps in encapsulating related properties and behaviors within a single class hierarchy. It provides a clear structure for organizing and categorizing classes.\n",
    "\n",
    "Advantages of Multiple Inheritance:\n",
    "\n",
    "Code Reusability: Multiple inheritance enables a class to inherit and combine functionality from multiple base classes. This facilitates code reuse and promotes modular design, allowing for the creation of classes with a wide range of capabilities.\n",
    "\n",
    "Flexibility and Expressiveness: Multiple inheritance provides a high level of flexibility and expressiveness. It allows classes to inherit and combine diverse behaviors from different sources, resulting in powerful and customizable class hierarchies.\n",
    "\n",
    "Promotes Composition: Multiple inheritance can be used to compose complex objects by combining various traits from different \n",
    "classes. It allows for the creation of specialized classes that bring together the desired features from multiple base classes."
   ]
  },
  {
   "cell_type": "markdown",
   "id": "d054011b",
   "metadata": {},
   "source": [
    "# 3. Explain the terms \"base class\" and \"derived class\" in the context of inheritance.\n"
   ]
  },
  {
   "cell_type": "markdown",
   "id": "f4214670",
   "metadata": {},
   "source": [
    " The class whose members are inherited is called the base class. The class that inherits the members of the base class is called the derived class."
   ]
  },
  {
   "cell_type": "markdown",
   "id": "5a650183",
   "metadata": {},
   "source": [
    "class DerivedClass(BaseClass):"
   ]
  },
  {
   "cell_type": "markdown",
   "id": "f2795838",
   "metadata": {},
   "source": [
    "# 4. What is the significance of the \"protected\" access modifier in inheritance? How does it differ from \"private\" and \"public\" modifiers?\n"
   ]
  },
  {
   "cell_type": "markdown",
   "id": "d647586d",
   "metadata": {},
   "source": [
    "Protected access modifiers allow the data members to be accessed by class, package, subclass (same package), subclass (different package). The difference between public and protected is that public can be accessed from outside class but protected cannot be accessed from outside class."
   ]
  },
  {
   "cell_type": "markdown",
   "id": "b2d25419",
   "metadata": {},
   "source": [
    "# 5. What is the purpose of the \"super\" keyword in inheritance? Provide an example.\n"
   ]
  },
  {
   "cell_type": "markdown",
   "id": "86d5f798",
   "metadata": {},
   "source": [
    "super is used to access a superclass field: A subclass can access a field defined in its parent class using the super keyword. This is useful when the subclass wants to reference the parent class's version of a field."
   ]
  },
  {
   "cell_type": "code",
   "execution_count": 4,
   "id": "d2599e08",
   "metadata": {},
   "outputs": [
    {
     "name": "stdout",
     "output_type": "stream",
     "text": [
      "the name is Ragini\n",
      " grade is: A\n"
     ]
    }
   ],
   "source": [
    "class person:\n",
    "    def __init__(self, name):\n",
    "        self.name = name\n",
    "    \n",
    "    def display_info(self):\n",
    "        print(f\"the name is {self.name}\")\n",
    "    \n",
    "    \n",
    "class student(person):\n",
    "    def __init__(self, name, grade):\n",
    "        super().__init__(name)\n",
    "        self.grade = grade\n",
    "    \n",
    "    def display_info(self):\n",
    "        super().display_info()\n",
    "        print(f\" grade is: {self.grade}\")\n",
    "        \n",
    "        \n",
    "hello = student('Ragini', 'A')\n",
    "hello.display_info()"
   ]
  },
  {
   "cell_type": "markdown",
   "id": "103f3b9b",
   "metadata": {},
   "source": [
    "# 6. Create a base class called \"Vehicle\" with attributes like \"make\", \"model\", and \"year\". Then, create a derived class called \"Car\" that inherits from \"Vehicle\" and adds an attribute called \"fuel_type\". Implement appropriate methods in both classes."
   ]
  },
  {
   "cell_type": "code",
   "execution_count": 5,
   "id": "68136613",
   "metadata": {},
   "outputs": [
    {
     "name": "stdout",
     "output_type": "stream",
     "text": [
      "Make: audi\n",
      "Model: a4\n",
      "Year: 2022\n",
      "Fuel Type: Petrol\n"
     ]
    }
   ],
   "source": [
    "class Vehicle:\n",
    "    def __init__(self, make, model, year):\n",
    "        self.make = make\n",
    "        self.model = model\n",
    "        self.year = year\n",
    "\n",
    "    def display_info(self):\n",
    "        print(f\"Make: {self.make}\")\n",
    "        print(f\"Model: {self.model}\")\n",
    "        print(f\"Year: {self.year}\")\n",
    "\n",
    "\n",
    "class Car(Vehicle):\n",
    "    def __init__(self, make, model, year, fuel_type):\n",
    "        super().__init__(make, model, year)\n",
    "        self.fuel_type = fuel_type\n",
    "\n",
    "    def display_info(self):\n",
    "        super().display_info()\n",
    "        print(f\"Fuel Type: {self.fuel_type}\")\n",
    "\n",
    "\n",
    "# Create an instance of the Car class and test the functionality\n",
    "car1 = Car(\"audi\", \"a4\", 2022, \"Petrol\")\n",
    "car1.display_info()\n"
   ]
  },
  {
   "cell_type": "markdown",
   "id": "af33c471",
   "metadata": {},
   "source": [
    "# 7. Create a base class called \"Employee\" with attributes like \"name\" and \"salary.\" Derive two classes, \"Manager\" and \"Developer,\" from \"Employee.\" Add an additional attribute called \"department\" for the \"Manager\" class and \"programming_language\" for the \"Developer\" class."
   ]
  },
  {
   "cell_type": "code",
   "execution_count": 8,
   "id": "bb985ed8",
   "metadata": {},
   "outputs": [
    {
     "name": "stdout",
     "output_type": "stream",
     "text": [
      "Name: Rgini\n",
      "Salary: INR - 80000\n",
      "Department: HR\n",
      "\n",
      "Name: shalini\n",
      "Salary: INR - 60000\n",
      "Programming Language: Python\n"
     ]
    }
   ],
   "source": [
    "class Employee:\n",
    "    def __init__(self, name, salary):\n",
    "        self.name = name\n",
    "        self.salary = salary\n",
    "\n",
    "    def display_info(self):\n",
    "        print(f\"Name: {self.name}\")\n",
    "        print(f\"Salary: INR - {self.salary}\")\n",
    "\n",
    "\n",
    "class Manager(Employee):\n",
    "    def __init__(self, name, salary, department):\n",
    "        super().__init__(name, salary)\n",
    "        self.department = department\n",
    "\n",
    "    def display_info(self):\n",
    "        super().display_info()\n",
    "        print(f\"Department: {self.department}\")\n",
    "\n",
    "\n",
    "class Developer(Employee):\n",
    "    def __init__(self, name, salary, programming_language):\n",
    "        super().__init__(name, salary)\n",
    "        self.programming_language = programming_language\n",
    "\n",
    "    def display_info(self):\n",
    "        super().display_info()\n",
    "        print(f\"Programming Language: {self.programming_language}\")\n",
    "\n",
    "\n",
    "# Create instances of the Manager and Developer classes and test the functionality\n",
    "manager1 = Manager(\"Rgini\", 80000, \"HR\")\n",
    "developer1 = Developer(\"shalini\", 60000, \"Python\")\n",
    "\n",
    "manager1.display_info()\n",
    "print()\n",
    "developer1.display_info()\n"
   ]
  },
  {
   "cell_type": "markdown",
   "id": "7fc1ec51",
   "metadata": {},
   "source": [
    "# 8. Design a base class called \"Shape\" with attributes like \"colour\" and \"border_width.\" Create derived classes, \"Rectangle\" and \"Circle,\" that inherit from \"Shape\" and add specific attributes like \"length\" and \"width\" for the \"Rectangle\" class and \"radius\" for the \"Circle\" class."
   ]
  },
  {
   "cell_type": "code",
   "execution_count": 9,
   "id": "079bc9e2",
   "metadata": {},
   "outputs": [
    {
     "name": "stdout",
     "output_type": "stream",
     "text": [
      "Colour: Red\n",
      "Border Width: 2\n",
      "Length: 10\n",
      "Width: 5\n",
      "\n",
      "Colour: Blue\n",
      "Border Width: 1\n",
      "Radius: 7\n"
     ]
    }
   ],
   "source": [
    "class Shape:\n",
    "    def __init__(self, colour, border_width):\n",
    "        self.colour = colour\n",
    "        self.border_width = border_width\n",
    "\n",
    "    def display_info(self):\n",
    "        print(f\"Colour: {self.colour}\")\n",
    "        print(f\"Border Width: {self.border_width}\")\n",
    "\n",
    "\n",
    "class Rectangle(Shape):\n",
    "    def __init__(self, colour, border_width, length, width):\n",
    "        super().__init__(colour, border_width)\n",
    "        self.length = length\n",
    "        self.width = width\n",
    "\n",
    "    def display_info(self):\n",
    "        super().display_info()\n",
    "        print(f\"Length: {self.length}\")\n",
    "        print(f\"Width: {self.width}\")\n",
    "\n",
    "\n",
    "class Circle(Shape):\n",
    "    def __init__(self, colour, border_width, radius):\n",
    "        super().__init__(colour, border_width)\n",
    "        self.radius = radius\n",
    "\n",
    "    def display_info(self):\n",
    "        super().display_info()\n",
    "        print(f\"Radius: {self.radius}\")\n",
    "\n",
    "\n",
    "# Create instances of the Rectangle and Circle classes \n",
    "rectangle1 = Rectangle(\"Red\", 2, 10, 5)\n",
    "circle1 = Circle(\"Blue\", 1, 7)\n",
    "\n",
    "rectangle1.display_info()\n",
    "print()\n",
    "circle1.display_info()\n"
   ]
  },
  {
   "cell_type": "markdown",
   "id": "4c029b66",
   "metadata": {},
   "source": [
    "# 9. Create a base class called \"Device\" with attributes like \"brand\" and \"model.\" Derive two classes, \"Phone\" and \"Tablet,\" from \"Device.\" Add specific attributes like \"screen_size\" for the \"Phone\" class and \"battery_capacity\" for the \"Tablet\" class."
   ]
  },
  {
   "cell_type": "code",
   "execution_count": 12,
   "id": "39298e51",
   "metadata": {},
   "outputs": [
    {
     "name": "stdout",
     "output_type": "stream",
     "text": [
      "Brand: Apple\n",
      "Model: iPhone 12\n",
      "Screen Size: 6.1 inches\n",
      "\n",
      "Brand: Samsung\n",
      "Model: Galaxy Tab S7\n",
      "Battery Capacity: 8000 mAh\n"
     ]
    }
   ],
   "source": [
    "class Device:\n",
    "    def __init__(self, brand, model):\n",
    "        self.brand = brand\n",
    "        self.model = model\n",
    "\n",
    "    def display_info(self):\n",
    "        print(f\"Brand: {self.brand}\")\n",
    "        print(f\"Model: {self.model}\")\n",
    "\n",
    "\n",
    "class Phone(Device):\n",
    "    def __init__(self, brand, model, screen_size):\n",
    "        super().__init__(brand, model)\n",
    "        self.screen_size = screen_size\n",
    "\n",
    "    def display_info(self):\n",
    "        super().display_info()\n",
    "        print(f\"Screen Size: {self.screen_size}\")\n",
    "\n",
    "\n",
    "class Tablet(Device):\n",
    "    def __init__(self, brand, model, battery_capacity):\n",
    "        super().__init__(brand, model)\n",
    "        self.battery_capacity = battery_capacity\n",
    "\n",
    "    def display_info(self):\n",
    "        super().display_info()\n",
    "        print(f\"Battery Capacity: {self.battery_capacity}\")\n",
    "\n",
    "\n",
    "\n",
    "phone1 = Phone(\"Apple\", \"iPhone 12\", \"6.1 inches\")\n",
    "tablet1 = Tablet(\"Samsung\", \"Galaxy Tab S7\", \"8000 mAh\")\n",
    "\n",
    "phone1.display_info()\n",
    "print()\n",
    "tablet1.display_info()\n"
   ]
  },
  {
   "cell_type": "markdown",
   "id": "ef2774b0",
   "metadata": {},
   "source": [
    "# 10. Create a base class called \"BankAccount\" with attributes like \"account_number\" and \"balance.\" Derive two classes, \"SavingsAccount\" and \"CheckingAccount,\" from \"BankAccount.\" Add specific methods like \"calculate_interest\" for the \"SavingsAccount\" class and \"deduct_fees\" for the \"CheckingAccount\" class."
   ]
  },
  {
   "cell_type": "code",
   "execution_count": 14,
   "id": "4d011dbd",
   "metadata": {},
   "outputs": [
    {
     "name": "stdout",
     "output_type": "stream",
     "text": [
      "Account Number: SA-1234\n",
      "Balance: INR - 1000\n",
      "Account Number: SA-1234\n",
      "Balance: INR - 1050.0\n",
      "\n",
      "Account Number: CA-5678\n",
      "Balance: INR - 500\n",
      "Account Number: CA-5678\n",
      "Balance: INR - 450\n"
     ]
    }
   ],
   "source": [
    "class BankAccount:\n",
    "    def __init__(self, account_number, balance):\n",
    "        self.account_number = account_number\n",
    "        self.balance = balance\n",
    "\n",
    "    def display_info(self):\n",
    "        print(f\"Account Number: {self.account_number}\")\n",
    "        print(f\"Balance: INR - {self.balance}\")\n",
    "\n",
    "\n",
    "class SavingsAccount(BankAccount):\n",
    "    def __init__(self, account_number, balance):\n",
    "        super().__init__(account_number, balance)\n",
    "\n",
    "    def calculate_interest(self, interest_rate):\n",
    "        interest = self.balance * interest_rate\n",
    "        self.balance += interest\n",
    "\n",
    "\n",
    "class CheckingAccount(BankAccount):\n",
    "    def __init__(self, account_number, balance):\n",
    "        super().__init__(account_number, balance)\n",
    "\n",
    "    def deduct_fees(self, fee_amount):\n",
    "        if self.balance >= fee_amount:\n",
    "            self.balance -= fee_amount\n",
    "        else:\n",
    "            print(\"Insufficient balance to deduct fees.\")\n",
    "\n",
    "\n",
    "# Create instances of the SavingsAccount and CheckingAccount classes and test the functionality\n",
    "savings_account = SavingsAccount(\"SA-1234\", 1000)\n",
    "checking_account = CheckingAccount(\"CA-5678\", 500)\n",
    "\n",
    "savings_account.display_info()\n",
    "savings_account.calculate_interest(0.05)\n",
    "savings_account.display_info()\n",
    "print()\n",
    "\n",
    "checking_account.display_info()\n",
    "checking_account.deduct_fees(50)\n",
    "checking_account.display_info()\n"
   ]
  },
  {
   "cell_type": "code",
   "execution_count": null,
   "id": "d8dc07c2",
   "metadata": {},
   "outputs": [],
   "source": []
  }
 ],
 "metadata": {
  "kernelspec": {
   "display_name": "Python 3 (ipykernel)",
   "language": "python",
   "name": "python3"
  },
  "language_info": {
   "codemirror_mode": {
    "name": "ipython",
    "version": 3
   },
   "file_extension": ".py",
   "mimetype": "text/x-python",
   "name": "python",
   "nbconvert_exporter": "python",
   "pygments_lexer": "ipython3",
   "version": "3.9.12"
  }
 },
 "nbformat": 4,
 "nbformat_minor": 5
}
