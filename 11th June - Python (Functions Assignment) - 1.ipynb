{
 "cells": [
  {
   "cell_type": "markdown",
   "id": "8c3958b7",
   "metadata": {},
   "source": [
    "# 1. What is a lambda function in Python, and how does it differ from a regular function?"
   ]
  },
  {
   "cell_type": "markdown",
   "id": "e51fc81f",
   "metadata": {},
   "source": [
    "ans - A lambda function is an anonymous function (i.e., defined without a name) that can take any number of arguments but, unlike normal functions, evaluates and returns only one expression. "
   ]
  },
  {
   "cell_type": "markdown",
   "id": "91244aeb",
   "metadata": {},
   "source": [
    "# 2. Can a lambda function in Python have multiple arguments? If yes, how can you define and use them?"
   ]
  },
  {
   "cell_type": "markdown",
   "id": "747c4b18",
   "metadata": {},
   "source": [
    "ans - A lambda function can take any number of arguments, but can only have one expression."
   ]
  },
  {
   "cell_type": "code",
   "execution_count": 1,
   "id": "9d795ec5",
   "metadata": {},
   "outputs": [
    {
     "name": "stdout",
     "output_type": "stream",
     "text": [
      "[10, 8, 7, 5, 11]\n"
     ]
    }
   ],
   "source": [
    "sequences = [10,2,8,7,5,4,3,11,0, 1]\n",
    "filtered_result = filter (lambda x: x > 4, sequences) \n",
    "print(list(filtered_result))"
   ]
  },
  {
   "cell_type": "markdown",
   "id": "92b0d9dc",
   "metadata": {},
   "source": [
    "# 3. How are lambda functions typically used in Python? Provide an example use case."
   ]
  },
  {
   "cell_type": "code",
   "execution_count": 6,
   "id": "c44dcfbd",
   "metadata": {},
   "outputs": [
    {
     "data": {
      "text/plain": [
       "16"
      ]
     },
     "execution_count": 6,
     "metadata": {},
     "output_type": "execute_result"
    }
   ],
   "source": [
    "square = lambda x: x**2\n",
    "square(4)"
   ]
  },
  {
   "cell_type": "markdown",
   "id": "28fae706",
   "metadata": {},
   "source": [
    "# 4. What are the advantages and limitations of lambda functions compared to regular functions in Python?"
   ]
  },
  {
   "cell_type": "markdown",
   "id": "70d3cd5a",
   "metadata": {},
   "source": [
    "ans - Lambda helps you use a function only once, and hence, avoids cluttering up the code with function definitions. In other words, Python's lambda keyword lets you define a function in a single line of code and use it immediately."
   ]
  },
  {
   "cell_type": "markdown",
   "id": "73174ea3",
   "metadata": {},
   "source": [
    "# 5. Are lambda functions in Python able to access variables defined outside of their own scope? Explain with an example."
   ]
  },
  {
   "cell_type": "markdown",
   "id": "042be194",
   "metadata": {},
   "source": [
    "Ans - Lambda functions have their own local namespace and cannot access variables other than those in their parameter list and those in the global namespace."
   ]
  },
  {
   "cell_type": "code",
   "execution_count": null,
   "id": "63cb10cb",
   "metadata": {},
   "outputs": [],
   "source": []
  },
  {
   "cell_type": "markdown",
   "id": "6ce1f89b",
   "metadata": {},
   "source": [
    "# 6. Write a lambda function to calculate the square of a given number."
   ]
  },
  {
   "cell_type": "code",
   "execution_count": 7,
   "id": "e96edbbd",
   "metadata": {},
   "outputs": [
    {
     "data": {
      "text/plain": [
       "16"
      ]
     },
     "execution_count": 7,
     "metadata": {},
     "output_type": "execute_result"
    }
   ],
   "source": [
    "square = lambda x: x**2\n",
    "square(4)"
   ]
  },
  {
   "cell_type": "markdown",
   "id": "d5d6d2d9",
   "metadata": {},
   "source": [
    "# 7. Create a lambda function to find the maximum value in a list of integers."
   ]
  },
  {
   "cell_type": "code",
   "execution_count": 11,
   "id": "0d4fd65c",
   "metadata": {},
   "outputs": [
    {
     "data": {
      "text/plain": [
       "102"
      ]
     },
     "execution_count": 11,
     "metadata": {},
     "output_type": "execute_result"
    }
   ],
   "source": [
    "l=[1,5,88,6,99,45,102]\n",
    "max(l, key=lambda x:int(x))"
   ]
  },
  {
   "cell_type": "markdown",
   "id": "875a7557",
   "metadata": {},
   "source": [
    "# 8. Implement a lambda function to filter out all the even numbers from a list of integers."
   ]
  },
  {
   "cell_type": "code",
   "execution_count": 15,
   "id": "2cef8be4",
   "metadata": {},
   "outputs": [
    {
     "data": {
      "text/plain": [
       "[88, 6, 102, 4, 2, 6, 8]"
      ]
     },
     "execution_count": 15,
     "metadata": {},
     "output_type": "execute_result"
    }
   ],
   "source": [
    "l=[1,5,88,6,99,45,102, 4,2,6,8,9]\n",
    "list(filter(lambda x : x%2==0, l))"
   ]
  },
  {
   "cell_type": "markdown",
   "id": "9343301d",
   "metadata": {},
   "source": [
    "# 9. Write a lambda function to sort a list of strings in ascending order based on the length of each string."
   ]
  },
  {
   "cell_type": "code",
   "execution_count": 17,
   "id": "5ca44600",
   "metadata": {},
   "outputs": [
    {
     "name": "stdout",
     "output_type": "stream",
     "text": [
      "['kiwi', 'apple', 'mango', 'banana', 'orange', 'cherry', 'strawberry']\n"
     ]
    }
   ],
   "source": [
    "l = [\"apple\", \"banana\", \"orange\", \"mango\", \"kiwi\", \"strawberry\", \"cherry\"]\n",
    "\n",
    "sort_list = sorted(l, key=lambda x:len(x))\n",
    "print(sort_list)"
   ]
  },
  {
   "cell_type": "code",
   "execution_count": 18,
   "id": "96b38f97",
   "metadata": {},
   "outputs": [
    {
     "data": {
      "text/plain": [
       "['kiwi', 'apple', 'mango', 'banana', 'orange', 'cherry', 'strawberry']"
      ]
     },
     "execution_count": 18,
     "metadata": {},
     "output_type": "execute_result"
    }
   ],
   "source": [
    "#another way\n",
    "list(sorted(l, key=lambda x:len(x)))"
   ]
  },
  {
   "cell_type": "markdown",
   "id": "60b26192",
   "metadata": {},
   "source": [
    "# 10. Create a lambda function that takes two lists as input and returns a new list containing the common elements between the two lists."
   ]
  },
  {
   "cell_type": "code",
   "execution_count": 1,
   "id": "fc2088f4",
   "metadata": {},
   "outputs": [
    {
     "data": {
      "text/plain": [
       "[13, 32, 7, 13, 28, 1, 6]"
      ]
     },
     "execution_count": 1,
     "metadata": {},
     "output_type": "execute_result"
    }
   ],
   "source": [
    "lst1 = [1, 6, 7, 10, 13, 28, 32, 41, 58, 63]\n",
    "lst2 = [13, 17, 18, 21, 32, 7, 11, 13, 14, 28, 1, 5, 6, 8, 15, 16]\n",
    "\n",
    "list(filter(lambda x: x in lst1, lst2))"
   ]
  },
  {
   "cell_type": "code",
   "execution_count": 5,
   "id": "29b33851",
   "metadata": {},
   "outputs": [],
   "source": [
    "#by using user defined functions\n",
    "def common(a,b):\n",
    "    return list(filter(lambda x: x in a, b))"
   ]
  },
  {
   "cell_type": "code",
   "execution_count": 6,
   "id": "a2928ee2",
   "metadata": {},
   "outputs": [
    {
     "data": {
      "text/plain": [
       "[4]"
      ]
     },
     "execution_count": 6,
     "metadata": {},
     "output_type": "execute_result"
    }
   ],
   "source": [
    "common([2,4], [1,4])"
   ]
  },
  {
   "cell_type": "markdown",
   "id": "53800bae",
   "metadata": {},
   "source": [
    "# 11. Write a recursive function to calculate the factorial of a given positive integer."
   ]
  },
  {
   "cell_type": "code",
   "execution_count": 7,
   "id": "31e82c0a",
   "metadata": {},
   "outputs": [],
   "source": [
    "def recur_factorial(n):\n",
    "   if n == 1:\n",
    "       return n\n",
    "   else:\n",
    "       return n*recur_factorial(n-1)\n"
   ]
  },
  {
   "cell_type": "code",
   "execution_count": 9,
   "id": "dd2fc47a",
   "metadata": {},
   "outputs": [
    {
     "data": {
      "text/plain": [
       "5040"
      ]
     },
     "execution_count": 9,
     "metadata": {},
     "output_type": "execute_result"
    }
   ],
   "source": [
    "recur_factorial(7)"
   ]
  },
  {
   "cell_type": "markdown",
   "id": "3c8546de",
   "metadata": {},
   "source": [
    "# 12. Implement a recursive function to compute the nth Fibonacci number."
   ]
  },
  {
   "cell_type": "code",
   "execution_count": 10,
   "id": "35cd8a49",
   "metadata": {},
   "outputs": [
    {
     "name": "stdout",
     "output_type": "stream",
     "text": [
      "21\n"
     ]
    }
   ],
   "source": [
    "def fibonacci(n):\n",
    "    a = 0\n",
    "    b = 1\n",
    "    if n < 0:\n",
    "        print(\"Incorrect input\")\n",
    "    elif n == 0:\n",
    "        return a\n",
    "    elif n == 1:\n",
    "        return b\n",
    "    else:\n",
    "        for i in range(2, n):\n",
    "            c = a + b\n",
    "            a = b\n",
    "            b = c\n",
    "        return b\n",
    " \n",
    "# Driver Program\n",
    " \n",
    "print(fibonacci(9))"
   ]
  },
  {
   "cell_type": "markdown",
   "id": "636e1d71",
   "metadata": {},
   "source": [
    "# 13. Create a recursive function to find the sum of all the elements in a given list."
   ]
  },
  {
   "cell_type": "code",
   "execution_count": 13,
   "id": "e7405237",
   "metadata": {},
   "outputs": [
    {
     "data": {
      "text/plain": [
       "10"
      ]
     },
     "execution_count": 13,
     "metadata": {},
     "output_type": "execute_result"
    }
   ],
   "source": [
    "def recur_sum(n):\n",
    "    return sum(n)\n",
    "\n",
    "recur_sum([2,4,2,2])"
   ]
  },
  {
   "cell_type": "markdown",
   "id": "9f3767ea",
   "metadata": {},
   "source": [
    "# 14. Write a recursive function to determine whether a given string is a palindrome."
   ]
  },
  {
   "cell_type": "code",
   "execution_count": 14,
   "id": "fbf52fe6",
   "metadata": {},
   "outputs": [
    {
     "name": "stdout",
     "output_type": "stream",
     "text": [
      "Enter string:tat\n",
      "String is a palindrome!\n"
     ]
    }
   ],
   "source": [
    "def is_palindrome(s):\n",
    "    if len(s) < 1:\n",
    "        return True\n",
    "    else:\n",
    "        if s[0] == s[-1]:\n",
    "            return is_palindrome(s[1:-1])\n",
    "        else:\n",
    "            return False\n",
    "a=str(input(\"Enter string:\"))\n",
    "if(is_palindrome(a)==True):\n",
    "    print(\"String is a palindrome!\")\n",
    "else:\n",
    "    print(\"String isn't a palindrome!\")"
   ]
  },
  {
   "cell_type": "markdown",
   "id": "03dfaac9",
   "metadata": {},
   "source": [
    "# 15. Implement a recursive function to find the greatest common divisor (GCD) of two positive integers."
   ]
  },
  {
   "cell_type": "code",
   "execution_count": 16,
   "id": "8ad12554",
   "metadata": {},
   "outputs": [
    {
     "name": "stdout",
     "output_type": "stream",
     "text": [
      "5\n"
     ]
    }
   ],
   "source": [
    "def gcd(a, b):\n",
    "   if a == b:\n",
    "      return a\n",
    "   elif a < b:\n",
    "      return gcd(b, a)\n",
    "   else:\n",
    "      return gcd(b, a - b)\n",
    "\n",
    "print(gcd(25, 45))"
   ]
  },
  {
   "cell_type": "code",
   "execution_count": null,
   "id": "58fa36b7",
   "metadata": {},
   "outputs": [],
   "source": []
  },
  {
   "cell_type": "code",
   "execution_count": null,
   "id": "36777f7c",
   "metadata": {},
   "outputs": [],
   "source": []
  },
  {
   "cell_type": "code",
   "execution_count": null,
   "id": "ea8edc2c",
   "metadata": {},
   "outputs": [],
   "source": []
  },
  {
   "cell_type": "code",
   "execution_count": null,
   "id": "5e86d92d",
   "metadata": {},
   "outputs": [],
   "source": []
  },
  {
   "cell_type": "code",
   "execution_count": null,
   "id": "e078883e",
   "metadata": {},
   "outputs": [],
   "source": []
  },
  {
   "cell_type": "code",
   "execution_count": null,
   "id": "77420df6",
   "metadata": {},
   "outputs": [],
   "source": []
  }
 ],
 "metadata": {
  "kernelspec": {
   "display_name": "Python 3 (ipykernel)",
   "language": "python",
   "name": "python3"
  },
  "language_info": {
   "codemirror_mode": {
    "name": "ipython",
    "version": 3
   },
   "file_extension": ".py",
   "mimetype": "text/x-python",
   "name": "python",
   "nbconvert_exporter": "python",
   "pygments_lexer": "ipython3",
   "version": "3.9.12"
  }
 },
 "nbformat": 4,
 "nbformat_minor": 5
}
