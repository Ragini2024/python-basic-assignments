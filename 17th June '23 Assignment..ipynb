{
 "cells": [
  {
   "cell_type": "markdown",
   "id": "5385e0ee",
   "metadata": {},
   "source": [
    "# 1. What is the role of try and exception block?"
   ]
  },
  {
   "cell_type": "markdown",
   "id": "5c612e80",
   "metadata": {},
   "source": [
    "The try block lets you test a block of code for errors. The except block lets you handle the error. The else block lets you execute code when there is no error. The finally block lets you execute code, regardless of the result of the try- and except blocks."
   ]
  },
  {
   "cell_type": "markdown",
   "id": "86dea94a",
   "metadata": {},
   "source": [
    "# 2. What is the syntax for a basic try-except block?"
   ]
  },
  {
   "cell_type": "raw",
   "id": "6a3c8f4a",
   "metadata": {},
   "source": [
    "try:\n",
    "    # Some Code\n",
    "except:\n",
    "    # Executed if error in the\n",
    "    # try block"
   ]
  },
  {
   "cell_type": "markdown",
   "id": "a311ae76",
   "metadata": {},
   "source": [
    "# 3. What happens if an exception occurs inside a try block and there is no matching except block?"
   ]
  },
  {
   "cell_type": "markdown",
   "id": "795db4c2",
   "metadata": {},
   "source": [
    "If an exception occurs during execution of the try clause, the rest of the clause is skipped. Then, if its type matches the exception named after the except keyword, the except clause is executed, and then execution continues after the try/except block."
   ]
  },
  {
   "cell_type": "markdown",
   "id": "8c64a9b0",
   "metadata": {},
   "source": [
    "# 4. What is the difference between using a bare except block and specifying a specific exception type?"
   ]
  },
  {
   "cell_type": "markdown",
   "id": "e3a5ca91",
   "metadata": {},
   "source": [
    "The purpose of writing \"Exception\" in front of an except clause is to catch all possible exceptions that can occur in the code. By specifying \"Exception\", you are telling the interpreter to handle any type of exception that might be raised. The more specific the exception specified in the except clause, the more targeted the handling of the exception can be. For example, if you only want to handle \"KeyError\" exceptions, you can specify that explicitly in the except clause, as in the first example."
   ]
  },
  {
   "cell_type": "markdown",
   "id": "c7ea6d2e",
   "metadata": {},
   "source": [
    "# 5. Can you have nested try-except blocks in Python? If yes, then give an example."
   ]
  },
  {
   "cell_type": "code",
   "execution_count": 20,
   "id": "671e4ffe",
   "metadata": {},
   "outputs": [
    {
     "name": "stdout",
     "output_type": "stream",
     "text": [
      "outer try block\n",
      "nested try block\n",
      "outer except block\n",
      "division by zero\n"
     ]
    }
   ],
   "source": [
    "#We can have nested try-except blocks in Python.\n",
    "x = 10\n",
    "y = 0\n",
    " \n",
    "try:\n",
    "    print(\"outer try block\")\n",
    "    try:\n",
    "        print(\"nested try block\")\n",
    "        print(x / y)\n",
    "    except TypeError as te:\n",
    "        print(\"nested except block\")\n",
    "        print(te)\n",
    "except ZeroDivisionError as ze:\n",
    "    print(\"outer except block\")\n",
    "    print(ze)"
   ]
  },
  {
   "cell_type": "markdown",
   "id": "00053ef1",
   "metadata": {},
   "source": [
    "# 6. Can we use multiple exception blocks, if yes then give an example."
   ]
  },
  {
   "cell_type": "code",
   "execution_count": 17,
   "id": "a4a9a923",
   "metadata": {},
   "outputs": [
    {
     "name": "stdout",
     "output_type": "stream",
     "text": [
      "You divided by 0\n"
     ]
    }
   ],
   "source": [
    "#It is possible to have multiple except blocks for one try block. \n",
    "a,b=1,0\n",
    "try:\n",
    "          print(a/b)\n",
    "          print(\"This won't be printed\")\n",
    "          print('10'+10)\n",
    "except TypeError:\n",
    "          print(\"You added values of incompatible types\")\n",
    "except ZeroDivisionError:\n",
    "          print(\"You divided by 0\")"
   ]
  },
  {
   "cell_type": "markdown",
   "id": "f357bb7e",
   "metadata": {},
   "source": [
    "# 7. Write the reason due to which following errors are raised:\n"
   ]
  },
  {
   "cell_type": "markdown",
   "id": "a3df6d4c",
   "metadata": {},
   "source": [
    "a. EOFError\n",
    "b. FloatingPointError\n",
    "c. IndexError\n",
    "d. MemoryError\n",
    "e. OverflowError\n",
    "f. TabError\n",
    "g. ValueError"
   ]
  },
  {
   "cell_type": "markdown",
   "id": "efba96a0",
   "metadata": {},
   "source": [
    "1 - EOFError - EOF stands for End of File in Python. Unexpected EOF implies that the interpreter has reached the end of our program before executing all the code. This error is likely to occur when: we fail to declare a statement for loop ( while / for )\n",
    "\n",
    "2 - FloatingPointError -  It's a problem caused when the internal representation of floating-point numbers, which uses a fixed number of binary digits to represent a decimal number. It is difficult to represent some decimal number in binary, so in many cases, it leads to small roundoff errors.\n",
    "\n",
    "3 - The IndexError: list index out of range error occurs in Python when an item from a list is attempted to be accessed that is outside the index range of the list.\n",
    "\n",
    "4 - MemoryError - A MemoryError means that the interpreter has run out of memory to allocate to your Python program. This may be due to an issue in the setup of the Python environment or it may be a concern with the code itself loading too much data at the same time.\n",
    "\n",
    "5 - OverflowError- An OverflowError exception is raised when an arithmetic operation exceeds the limits to be represented.\n",
    "\n",
    "6 - TabError -  inconsistent use of tabs and spaces in indentation\" occurs when we mix tabs and spaces in the same code block. To solve the error, remove the spacing and only use tabs or spaces, but don't mix the two in the same code block.\n",
    "\n",
    "7 - ValueError - ValueError is raised when a function receives an argument of the correct type but an inappropriate value."
   ]
  },
  {
   "cell_type": "markdown",
   "id": "3f1c5bbb",
   "metadata": {},
   "source": [
    "# 8. Write code for the following given scenario and add try-exception block to it.\n",
    "a. Program to divide two numbers\n",
    "b. Program to convert a string to an integer\n",
    "c. Program to access an element in a list\n",
    "d. Program to handle a specific exception\n",
    "e. Program to handle any exception"
   ]
  },
  {
   "cell_type": "code",
   "execution_count": 10,
   "id": "95ab04b1",
   "metadata": {},
   "outputs": [
    {
     "name": "stdout",
     "output_type": "stream",
     "text": [
      "Enter the value of n:4\n",
      "Enter the value of d:2\n",
      "Quotient: 2.0\n"
     ]
    }
   ],
   "source": [
    "#a. Program to divide two numbers \n",
    "n=int(input(\"Enter the value of n:\"))\n",
    "d=int(input(\"Enter the value of d:\"))\n",
    "\n",
    "try:\n",
    "    q=n/d\n",
    "    print(\"Quotient:\",q)\n",
    "except ZeroDivisionError:\n",
    "        print(\"Division by Zero!\")"
   ]
  },
  {
   "cell_type": "code",
   "execution_count": 14,
   "id": "05df35f2",
   "metadata": {},
   "outputs": [
    {
     "name": "stdout",
     "output_type": "stream",
     "text": [
      "Entered value is: 123\n",
      "Input\n",
      "123\n",
      "<class 'str'>\n",
      "\n",
      "Output\n",
      "123\n",
      "<class 'int'>\n"
     ]
    }
   ],
   "source": [
    "#b. Program to convert a string to an integer\n",
    "\n",
    "try:\n",
    "    a = input(\"Entered value is: \")\n",
    "    print('Input', a, type(a), sep='\\n')\n",
    "\n",
    "    #convert string to int\n",
    "    output = int(a)\n",
    "    print('\\nOutput', output, type(output), sep='\\n')\n",
    "except:\n",
    "    print(\"an error has occured\")\n",
    "\n",
    "    "
   ]
  },
  {
   "cell_type": "code",
   "execution_count": 8,
   "id": "f8bdd7fb",
   "metadata": {},
   "outputs": [
    {
     "name": "stdout",
     "output_type": "stream",
     "text": [
      "the second element in the list is apple\n"
     ]
    }
   ],
   "source": [
    "#c. Program to access an element in a list\n",
    "\n",
    "list = [\"apple\", \"bnana\", \"orange\"]\n",
    "\n",
    "\n",
    "try:\n",
    "    print(\"the second element in the list is\", list[0])\n",
    "except:\n",
    "    print(\"value not present\")\n",
    "    "
   ]
  },
  {
   "cell_type": "code",
   "execution_count": 9,
   "id": "7486242f",
   "metadata": {},
   "outputs": [
    {
     "name": "stdout",
     "output_type": "stream",
     "text": [
      "Division by zero not allowed\n",
      "Out of try except blocks\n"
     ]
    }
   ],
   "source": [
    "#d. Program to handle a specific exception\n",
    "\n",
    "try:\n",
    "    a=5\n",
    "    b=0\n",
    "    print (a/b)\n",
    "except TypeError:\n",
    "    print('Unsupported operation')\n",
    "except ZeroDivisionError:\n",
    "    print ('Division by zero not allowed')\n",
    "except:\n",
    "  print('Some error occurred.')\n",
    "print ('Out of try except blocks')"
   ]
  },
  {
   "cell_type": "code",
   "execution_count": 15,
   "id": "1eb3b743",
   "metadata": {},
   "outputs": [
    {
     "name": "stdout",
     "output_type": "stream",
     "text": [
      "the second element in the list is 2\n",
      "an error has occured\n"
     ]
    }
   ],
   "source": [
    "#e. Program to handle any exception\n",
    "\n",
    "b = [1,2,3]\n",
    "\n",
    "try:\n",
    "    print(\"the second element in the list is\", b[1])\n",
    "    #to get the error\n",
    "    print(\"the 5th element in the list is\", b[4])\n",
    "except:\n",
    "    print(\"an error has occured\")"
   ]
  },
  {
   "cell_type": "code",
   "execution_count": null,
   "id": "e78cb477",
   "metadata": {},
   "outputs": [],
   "source": []
  }
 ],
 "metadata": {
  "kernelspec": {
   "display_name": "Python 3 (ipykernel)",
   "language": "python",
   "name": "python3"
  },
  "language_info": {
   "codemirror_mode": {
    "name": "ipython",
    "version": 3
   },
   "file_extension": ".py",
   "mimetype": "text/x-python",
   "name": "python",
   "nbconvert_exporter": "python",
   "pygments_lexer": "ipython3",
   "version": "3.9.12"
  }
 },
 "nbformat": 4,
 "nbformat_minor": 5
}
