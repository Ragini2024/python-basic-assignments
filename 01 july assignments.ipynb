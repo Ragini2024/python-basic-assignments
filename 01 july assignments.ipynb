{
 "cells": [
  {
   "cell_type": "markdown",
   "id": "dd22dc36",
   "metadata": {},
   "source": [
    "# 1. What is the primary goal of Object-Oriented Programming (OOP)?"
   ]
  },
  {
   "cell_type": "markdown",
   "id": "94536530",
   "metadata": {},
   "source": [
    "To hold entire data into a single object such that it would be easy to pass this to other methods and objects."
   ]
  },
  {
   "cell_type": "markdown",
   "id": "f1c8a67b",
   "metadata": {},
   "source": [
    "# 2. What is an object in Python?\n"
   ]
  },
  {
   "cell_type": "markdown",
   "id": "d10f761e",
   "metadata": {},
   "source": [
    "An Object is an instance of a Class."
   ]
  },
  {
   "cell_type": "markdown",
   "id": "c4efb7d9",
   "metadata": {},
   "source": [
    "# 3. What is a class in Python?\n"
   ]
  },
  {
   "cell_type": "markdown",
   "id": "4738cdbf",
   "metadata": {},
   "source": [
    "A class is a user-defined prototype from which objects are created. Classes provide a means of bindling data and functionality together. Creating a new class creates a new type of object, allowing new instances of that type to be made"
   ]
  },
  {
   "cell_type": "markdown",
   "id": "2aa13ec1",
   "metadata": {},
   "source": [
    "# 4. What are attributes and methods in a class?\n"
   ]
  },
  {
   "cell_type": "markdown",
   "id": "12a2e365",
   "metadata": {},
   "source": [
    "Any variable that is bound in a class is a class attribute . Any function defined within a class is a method ."
   ]
  },
  {
   "cell_type": "markdown",
   "id": "cbaa8e16",
   "metadata": {},
   "source": [
    "# 5. What is the difference between class variables and instance variables in Python?\n"
   ]
  },
  {
   "cell_type": "markdown",
   "id": "fffabda4",
   "metadata": {},
   "source": [
    "Class variables are common to all instances of a class. These variables are shared between the objects of a class. Instance variables are not shared between the objects of a class. Each instance will have it's own copy of instance variables."
   ]
  },
  {
   "cell_type": "markdown",
   "id": "026bcde8",
   "metadata": {},
   "source": [
    "# 6. What is the purpose of the self parameter in Python class methods?\n"
   ]
  },
  {
   "cell_type": "markdown",
   "id": "4ca12727",
   "metadata": {},
   "source": [
    "The self parameter is a reference to the current instance of the class, and is used to access variables that belongs to the class."
   ]
  },
  {
   "cell_type": "markdown",
   "id": "aecf8e46",
   "metadata": {},
   "source": [
    "# 7. For a library management system, you have to design the \"Book\" class with OOP principles in mind. The “Book” class will have following attributes:\n",
    "a. title: Represents the title of the book.\n",
    "b. author: Represents the author(s) of the book.\n",
    "c. isbn: Represents the ISBN (International Standard Book Number) of the book.\n",
    "d. publication_year: Represents the year of publication of the book.\n",
    "e. available_copies: Represents the number of copies available for checkout.\n",
    "The class will also include the following methods:\n",
    "a. check_out(self): Decrements the available copies by one if there are copies\n",
    "available for checkout.\n",
    "b. return_book(self): Increments the available copies by one when a book is\n",
    "returned.\n",
    "c. display_book_info(self): Displays the information about the book, including its\n",
    "attributes and the number of available copies.\n"
   ]
  },
  {
   "cell_type": "code",
   "execution_count": 33,
   "id": "f6beac8b",
   "metadata": {},
   "outputs": [],
   "source": [
    "class Book:\n",
    "    def __init__(self, title, auther, isbn, publication_year, available_copies):\n",
    "        self.title = title\n",
    "        self.auther = auther\n",
    "        self.isbn = isbn\n",
    "        self.publication_year = publication_year\n",
    "        self.available_copies = available_copies\n",
    "        \n",
    "    \n",
    "    def check_out(self):\n",
    "        if self.available_copies >0:\n",
    "            self.available_copies -=1\n",
    "            print(\"book is checked out\")\n",
    "        else:\n",
    "            print(\"no books left\")\n",
    "            \n",
    "    def return_book(self):\n",
    "        self.available_copies +=1\n",
    "        print(\"book returned success\")\n",
    "    \n",
    "    def display_book_info(self):\n",
    "        print(f\"the title of the book is {self.title}\")\n",
    "        print(f\"the auther of the book is {self.auther}\")\n",
    "        print(f\"the isbn of the book is {self.isbn}\")\n",
    "        print(f\"the publication year of the book is {self.publication_year}\")\n",
    "        print(f\"total copies left of the book is {self.available_copies}\")    "
   ]
  },
  {
   "cell_type": "code",
   "execution_count": 35,
   "id": "4f297a3e",
   "metadata": {},
   "outputs": [
    {
     "name": "stdout",
     "output_type": "stream",
     "text": [
      "the title of the book is alice in wonderland\n",
      "the auther of the book is Lewis Carroll\n",
      "the isbn of the book is 10\n",
      "the publication year of the book is nov-1865\n",
      "total copies left of the book is 10\n",
      "book is checked out\n",
      "book returned success\n"
     ]
    }
   ],
   "source": [
    "book1 = Book(\"alice in wonderland\", \"Lewis Carroll\", \"10\", \"nov-1865\",10)\n",
    "\n",
    "book1.display_book_info()\n",
    "book1.check_out()\n",
    "book1.return_book()"
   ]
  },
  {
   "cell_type": "markdown",
   "id": "4510ca2b",
   "metadata": {},
   "source": [
    "# 8. For a ticket booking system, you have to design the \"Ticket\" class with OOP principles in mind. The “Ticket” class should have the following attributes:\n"
   ]
  },
  {
   "cell_type": "markdown",
   "id": "794b13f0",
   "metadata": {},
   "source": [
    "a. ticket_id: Represents the unique identifier for the ticket.\n",
    "b. event_name: Represents the name of the event.\n",
    "c. event_date: Represents the date of the event.\n",
    "d. venue: Represents the venue of the event.\n",
    "e. seat_number: Represents the seat number associated with the ticket.\n",
    "f. price: Represents the price of the ticket.\n",
    "g. is_reserved: Represents the reservation status of the ticket.\n",
    "The class also includes the following methods:\n",
    "a. reserve_ticket(self): Marks the ticket as reserved if it is not already reserved.\n",
    "b. cancel_reservation(self): Cancels the reservation of the ticket if it is already\n",
    "reserved.\n",
    "c. display_ticket_info(self): Displays the information about the ticket, including its\n",
    "attributes and reservation status."
   ]
  },
  {
   "cell_type": "code",
   "execution_count": 10,
   "id": "27758394",
   "metadata": {},
   "outputs": [],
   "source": [
    "class Ticket:\n",
    "    def __init__(self, ticket_id, event_name, event_date, venue, seat_number, price):\n",
    "        self.ticket_id = ticket_id\n",
    "        self.event_name = event_name\n",
    "        self.event_date = event_date\n",
    "        self.venue = venue\n",
    "        self.seat_number = seat_number\n",
    "        self.price = price\n",
    "        self.is_reserved = False\n",
    "    \n",
    "    def reserve_ticket(self):\n",
    "        if not self.is_reserved:\n",
    "            self.is_reserved = True\n",
    "            print(\"Ticket reserved successfully.\")\n",
    "        else:\n",
    "            print(\"Ticket is already reserved.\")\n",
    "    \n",
    "    def cancel_reservation(self):\n",
    "        if self.is_reserved:\n",
    "            self.is_reserved = False\n",
    "            print(\"Reservation canceled successfully.\")\n",
    "        else:\n",
    "            print(\"Ticket is not reserved.\")\n",
    "    \n",
    "    def display_ticket_info(self):\n",
    "        print(\"Ticket ID:\", self.ticket_id)\n",
    "        print(\"Event Name:\", self.event_name)\n",
    "        print(\"Event Date:\", self.event_date)\n",
    "        print(\"Venue:\", self.venue)\n",
    "        print(\"Seat Number:\", self.seat_number)\n",
    "        print(\"Price:\", self.price)\n",
    "        print(\"Reservation Status:\", \"Reserved\" if self.is_reserved else \"Not Reserved\")\n"
   ]
  },
  {
   "cell_type": "code",
   "execution_count": 12,
   "id": "21531cdf",
   "metadata": {},
   "outputs": [
    {
     "name": "stdout",
     "output_type": "stream",
     "text": [
      "Ticket ID: ticket1\n",
      "Event Name: pilgrimage\n",
      "Event Date: kedarnath\n",
      "Venue: 2023-07-10\n",
      "Seat Number: uttarakhand\n",
      "Price: A1\n",
      "Reservation Status: Not Reserved\n"
     ]
    }
   ],
   "source": [
    "ticket1 = Ticket(\"ticket1\", \"pilgrimage\", \"kedarnath\", \"2023-07-10\", \"uttarakhand\", \"A1\")\n",
    "ticket1.display_ticket_info()\n",
    "\n"
   ]
  },
  {
   "cell_type": "code",
   "execution_count": 23,
   "id": "5378ed0b",
   "metadata": {},
   "outputs": [
    {
     "name": "stdout",
     "output_type": "stream",
     "text": [
      "Ticket reserved successfully.\n",
      "Ticket ID: ticket1\n",
      "Event Name: pilgrimage\n",
      "Event Date: kedarnath\n",
      "Venue: 2023-07-10\n",
      "Seat Number: uttarakhand\n",
      "Price: A1\n",
      "Reservation Status: Reserved\n"
     ]
    }
   ],
   "source": [
    "ticket1.reserve_ticket()\n",
    "ticket1.display_ticket_info()"
   ]
  },
  {
   "cell_type": "code",
   "execution_count": 24,
   "id": "edfb9945",
   "metadata": {},
   "outputs": [
    {
     "name": "stdout",
     "output_type": "stream",
     "text": [
      "Reservation canceled successfully.\n",
      "Ticket ID: ticket1\n",
      "Event Name: pilgrimage\n",
      "Event Date: kedarnath\n",
      "Venue: 2023-07-10\n",
      "Seat Number: uttarakhand\n",
      "Price: A1\n",
      "Reservation Status: Not Reserved\n"
     ]
    }
   ],
   "source": [
    "ticket1.cancel_reservation()\n",
    "ticket1.display_ticket_info()\n"
   ]
  },
  {
   "cell_type": "markdown",
   "id": "2026e73d",
   "metadata": {},
   "source": [
    "# 9. You are creating a shopping cart for an e-commerce website. Using OOP to model the \"ShoppingCart\" functionality the class should contain following attributes and methods:\n",
    "a. items: Represents the list of items in the shopping cart.\n",
    "The class also includes the following methods:\n",
    "a. add_item(self, item): Adds an item to the shopping cart by appending it to the\n",
    "list of items.\n",
    "b. remove_item(self, item): Removes an item from the shopping cart if it exists in\n",
    "the list.\n",
    "c. view_cart(self): Displays the items currently present in the shopping cart.\n",
    "d. clear_cart(self): Clears all items from the shopping cart by reassigning an\n",
    "empty list to the items attribute."
   ]
  },
  {
   "cell_type": "code",
   "execution_count": 36,
   "id": "e629d74a",
   "metadata": {},
   "outputs": [],
   "source": [
    "class ShoppingCart:\n",
    "    def __init__(self):\n",
    "        self.items = []\n",
    "    \n",
    "    def add_item(self, item):\n",
    "        self.items.append(item)\n",
    "        print(\"Item added to the shopping cart.\")\n",
    "    \n",
    "    def remove_item(self, item):\n",
    "        if item in self.items:\n",
    "            self.items.remove(item)\n",
    "            print(\"Item removed from the shopping cart.\")\n",
    "        else:\n",
    "            print(\"Item not found in the shopping cart.\")\n",
    "    \n",
    "    def view_cart(self):\n",
    "        if self.items:\n",
    "            print(\"Items in the shopping cart:\")\n",
    "            for item in self.items:\n",
    "                print(\"- \", item)\n",
    "        else:\n",
    "            print(\"The shopping cart is empty.\")\n",
    "    \n",
    "    def clear_cart(self):\n",
    "        self.items = []\n",
    "        print(\"Shopping cart cleared.\")"
   ]
  },
  {
   "cell_type": "code",
   "execution_count": 37,
   "id": "498773be",
   "metadata": {},
   "outputs": [
    {
     "name": "stdout",
     "output_type": "stream",
     "text": [
      "Item added to the shopping cart.\n",
      "Item added to the shopping cart.\n",
      "Item added to the shopping cart.\n",
      "Items in the shopping cart:\n",
      "-  Item 1\n",
      "-  Item 2\n",
      "-  Item 3\n",
      "Item removed from the shopping cart.\n",
      "Items in the shopping cart:\n",
      "-  Item 1\n",
      "-  Item 3\n",
      "Shopping cart cleared.\n",
      "The shopping cart is empty.\n"
     ]
    }
   ],
   "source": [
    "# Creating a shopping cart instance\n",
    "cart = ShoppingCart()\n",
    "\n",
    "# Adding items to the cart\n",
    "cart.add_item(\"Item 1\")\n",
    "cart.add_item(\"Item 2\")\n",
    "cart.add_item(\"Item 3\")\n",
    "\n",
    "# Viewing the cart\n",
    "cart.view_cart()\n",
    "\n",
    "# Removing an item from the cart\n",
    "cart.remove_item(\"Item 2\")\n",
    "\n",
    "# Viewing the cart after removal\n",
    "cart.view_cart()\n",
    "\n",
    "# Clearing the cart\n",
    "cart.clear_cart()\n",
    "\n",
    "# Viewing the cart after clearing\n",
    "cart.view_cart()\n"
   ]
  },
  {
   "cell_type": "markdown",
   "id": "a5ac9a5e",
   "metadata": {},
   "source": [
    "# 10. Imagine a school management system. You have to design the \"Student\" class using OOP concepts.The “Student” class has the following attributes:\n",
    "a. name: Represents the name of the student.\n",
    "b. age: Represents the age of the student.\n",
    "c. grade: Represents the grade or class of the student.\n",
    "d. student_id: Represents the unique identifier for the student.\n",
    "e. attendance: Represents the attendance record of the student.\n",
    "The class should also include the following methods:\n",
    "a. update_attendance(self, date, status): Updates the attendance record of the\n",
    "student for a given date with the provided status (e.g., present or absent).\n",
    "b. get_attendance(self): Returns the attendance record of the student.\n",
    "c. get_average_attendance(self): Calculates and returns the average\n",
    "attendance percentage of the student based on their attendance record."
   ]
  },
  {
   "cell_type": "code",
   "execution_count": 38,
   "id": "ce8aaa91",
   "metadata": {},
   "outputs": [],
   "source": [
    "class Student:\n",
    "    def __init__(self, name, age, grade, student_id):\n",
    "        self.name = name\n",
    "        self.age = age\n",
    "        self.grade = grade\n",
    "        self.student_id = student_id\n",
    "        self.attendance = {}\n",
    "    \n",
    "    def update_attendance(self, date, status):\n",
    "        self.attendance[date] = status\n",
    "    \n",
    "    def get_attendance(self):\n",
    "        return self.attendance\n",
    "    \n",
    "    def get_average_attendance(self):\n",
    "        total_days = len(self.attendance)\n",
    "        present_days = sum(1 for status in self.attendance.values() if status == \"present\")\n",
    "        average_attendance = (present_days / total_days) * 100 if total_days > 0 else 0\n",
    "        return average_attendance\n"
   ]
  },
  {
   "cell_type": "code",
   "execution_count": 41,
   "id": "6c3af441",
   "metadata": {},
   "outputs": [
    {
     "name": "stdout",
     "output_type": "stream",
     "text": [
      "Attendance Record: {'2023-07-01': 'present', '2023-07-02': 'present', '2023-07-03': 'present'}\n",
      "Average Attendance: 100.0\n"
     ]
    }
   ],
   "source": [
    "# Creating a student instance\n",
    "student1 = Student(\"Ragini\", 15, 10, \"S12345\")\n",
    "\n",
    "# Updating attendance\n",
    "student1.update_attendance(\"2023-07-01\", \"present\")\n",
    "student1.update_attendance(\"2023-07-02\", \"present\")\n",
    "student1.update_attendance(\"2023-07-03\", \"present\")\n",
    "\n",
    "# Getting attendance record\n",
    "attendance_record = student1.get_attendance()\n",
    "print(\"Attendance Record:\", attendance_record)\n",
    "\n",
    "# Getting average attendance\n",
    "average_attendance = student1.get_average_attendance()\n",
    "print(\"Average Attendance:\", average_attendance)\n"
   ]
  }
 ],
 "metadata": {
  "kernelspec": {
   "display_name": "Python 3 (ipykernel)",
   "language": "python",
   "name": "python3"
  },
  "language_info": {
   "codemirror_mode": {
    "name": "ipython",
    "version": 3
   },
   "file_extension": ".py",
   "mimetype": "text/x-python",
   "name": "python",
   "nbconvert_exporter": "python",
   "pygments_lexer": "ipython3",
   "version": "3.9.12"
  }
 },
 "nbformat": 4,
 "nbformat_minor": 5
}
